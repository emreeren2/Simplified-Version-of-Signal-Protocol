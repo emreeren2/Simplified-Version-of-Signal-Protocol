{
 "cells": [
  {
   "cell_type": "code",
   "execution_count": 41,
   "metadata": {},
   "outputs": [],
   "source": [
    "import math\n",
    "import time\n",
    "import random\n",
    "import sympy\n",
    "import warnings\n",
    "from random import randint, seed\n",
    "import sys\n",
    "from ecpy.curves import Curve,Point\n",
    "from Crypto.Hash import SHA3_256, HMAC, SHA256\n",
    "import requests\n",
    "from Crypto.Cipher import AES\n",
    "from Crypto import Random\n",
    "from Crypto.Util.Padding import pad\n",
    "from Crypto.Util.Padding import unpad\n",
    "import random\n",
    "import re\n",
    "import json"
   ]
  },
  {
   "cell_type": "code",
   "execution_count": 211,
   "metadata": {},
   "outputs": [
    {
     "name": "stdout",
     "output_type": "stream",
     "text": [
      "Base point:\n",
      " (0x79be667ef9dcbbac55a06295ce870b07029bfcdb2dce28d959f2815b16f81798 , 0x483ada7726a3c4655da4fbfc0e1108a8fd17b448a68554199c47d08ffb10d4b8)\n",
      "p : 115792089237316195423570985008687907853269984665640564039457584007908834671663\n",
      "a : 0\n",
      "b : 7\n",
      "n : 115792089237316195423570985008687907852837564279074904382605163141518161494337\n"
     ]
    }
   ],
   "source": [
    "E = Curve.get_curve('secp256k1')\n",
    "n = E.order\n",
    "p = E.field\n",
    "P = E.generator\n",
    "a = E.a\n",
    "b = E.b\n",
    "print(\"Base point:\\n\", P)\n",
    "print(\"p :\", p)\n",
    "print(\"a :\", a)\n",
    "print(\"b :\", b)\n",
    "print(\"n :\", n)\n"
   ]
  },
  {
   "cell_type": "code",
   "execution_count": 212,
   "metadata": {},
   "outputs": [],
   "source": [
    "API_URL = 'http://10.92.52.175:5000/'\n",
    "\n",
    "stuID =  25139  ## Change this to your ID number\n",
    "stuID = 26846\n",
    "#server's Identitiy public key\n",
    "IKey_Ser = Point(93223115898197558905062012489877327981787036929201444813217704012422483432813 , 8985629203225767185464920094198364255740987346743912071843303975587695337619, E)\n",
    "\n",
    "#Send Public Identitiy Key Coordinates and corresponding signature\n",
    "def IKRegReq(h,s,x,y):\n",
    "    mes = {'ID':stuID, 'H': h, 'S': s, 'IKPUB.X': x, 'IKPUB.Y': y}\n",
    "    print(\"Sending message is: \", mes)\n",
    "    response = requests.put('{}/{}'.format(API_URL, \"IKRegReq\"), json = mes)\t\t\n",
    "    if((response.ok) == False): print(response.json())\n",
    "\n",
    "#Send the verification code\n",
    "def IKRegVerify(code):\n",
    "    mes = {'ID':stuID, 'CODE': code}\n",
    "    print(\"Sending message is: \", mes)\n",
    "    response = requests.put('{}/{}'.format(API_URL, \"IKRegVerif\"), json = mes)\n",
    "    if((response.ok) == False): raise Exception(response.json())\n",
    "    print(response.json())\n",
    "\n",
    "#Send SPK Coordinates and corresponding signature\n",
    "def SPKReg(h,s,x,y):\n",
    "    mes = {'ID':stuID, 'H': h, 'S': s, 'SPKPUB.X': x, 'SPKPUB.Y': y}\n",
    "    print(\"Sending message is: \", mes)\n",
    "    response = requests.put('{}/{}'.format(API_URL, \"SPKReg\"), json = mes)\t\t\n",
    "    if((response.ok) == False): \n",
    "        print(response.json())\n",
    "    else: \n",
    "        res = response.json()\n",
    "        return res['SPKPUB.X'], res['SPKPUB.Y'], res['H'], res['S']\n",
    "\n",
    "#Send OTK Coordinates and corresponding hmac\n",
    "def OTKReg(keyID,x,y,hmac):\n",
    "    mes = {'ID':stuID, 'KEYID': keyID, 'OTKI.X': x, 'OTKI.Y': y, 'HMACI': hmac}\n",
    "    print(\"Sending message is: \", mes)\n",
    "    response = requests.put('{}/{}'.format(API_URL, \"OTKReg\"), json = mes)\t\t\n",
    "    print(response.json())\n",
    "    if((response.ok) == False): return False\n",
    "    else: return True\n",
    "\n",
    "#Send the reset code to delete your Identitiy Key\n",
    "#Reset Code is sent when you first registered\n",
    "def ResetIK(rcode):\n",
    "    mes = {'ID':stuID, 'RCODE': rcode}\n",
    "    print(\"Sending message is: \", mes)\n",
    "    response = requests.delete('{}/{}'.format(API_URL, \"ResetIK\"), json = mes)\t\t\n",
    "    print(response.json())\n",
    "    if((response.ok) == False): return False\n",
    "    else: return True\n",
    "\n",
    "#Sign your ID  number and send the signature to delete your SPK\n",
    "def ResetSPK(h,s):\n",
    "    mes = {'ID':stuID, 'H': h, 'S': s}\n",
    "    print(\"Sending message is: \", mes)\n",
    "    response = requests.delete('{}/{}'.format(API_URL, \"ResetSPK\"), json = mes)\t\t\n",
    "    print(response.json())\n",
    "    if((response.ok) == False): return False\n",
    "    else: return True\n",
    "\n",
    "#Send the reset code to delete your Identitiy Key\n",
    "def ResetOTK(h,s):\n",
    "    mes = {'ID':stuID, 'H': h, 'S': s}\n",
    "    print(\"Sending message is: \", mes)\n",
    "    response = requests.delete('{}/{}'.format(API_URL, \"ResetOTK\"), json = mes)\t\t\n",
    "    if((response.ok) == False): print(response.json())\n",
    "\n",
    "#Pseudo-client will send you 5 messages to your inbox via server when you call this function\n",
    "def PseudoSendMsg(h,s):\n",
    "    mes = {'ID':stuID, 'H': h, 'S': s}\n",
    "    print(\"Sending message is: \", mes)\n",
    "    response = requests.put('{}/{}'.format(API_URL, \"PseudoSendMsg\"), json = mes)\t\t\n",
    "    print(response.json())\n",
    "\n",
    "#get your messages. server will send 1 message from your inbox \n",
    "def ReqMsg(h,s):\n",
    "    mes = {'ID':stuID, 'H': h, 'S': s}\n",
    "    print(\"Sending message is: \", mes)\n",
    "    response = requests.get('{}/{}'.format(API_URL, \"ReqMsg\"), json = mes)\t\n",
    "    print(response.json())\t\n",
    "    if((response.ok) == True): \n",
    "        res = response.json()\n",
    "        return res[\"IDB\"], res[\"OTKID\"], res[\"MSGID\"], res[\"MSG\"], res[\"EK.X\"], res[\"EK.Y\"]\n",
    "\n",
    "#If you decrypted the message, send back the plaintext for grading\n",
    "def Checker(stuID, stuIDB, msgID, decmsg):\n",
    "    mes = {'IDA':stuID, 'IDB':stuIDB, 'MSGID': msgID, 'DECMSG': decmsg}\n",
    "    print(\"Sending message is: \", mes)\n",
    "    response = requests.put('{}/{}'.format(API_URL, \"Checker\"), json = mes)\t\t\n",
    "    print(response.json())\n",
    "\n",
    "def Status(stuID, h, s):\n",
    "    mes = {'ID':stuID, 'H': h, 'S': s}\n",
    "    print(\"Sending message is: \", mes)\n",
    "    response = requests.get('{}/{}'.format(API_URL, \"Status\"), json = mes)\t\n",
    "    print(response.json())\n",
    "    if (response.ok == True):\n",
    "        res = response.json()\n",
    "        return res['numMSG'], res['numOTK'], res['StatusMSG']\t"
   ]
  },
  {
   "cell_type": "code",
   "execution_count": 126,
   "metadata": {},
   "outputs": [],
   "source": [
    "# IK data\n",
    "sA = 75365099691681163466259435055151388598990196366045037773536006665067396329561\n",
    "Q_x = 87058090705547232336742506266448902457032608537577399368869745072849975094263\n",
    "Q_y = 73863361865121729253370141189521784002483174318560123943873444021233722393171\n",
    "\n",
    "s_ik = 38435919104545028465405229083851199426577612833328471419512121279897034838259\n",
    "h_ik = 40139398399024429188254655216662123008175195428486006903289784284292094948763\n",
    "\n",
    "# SPK data\n",
    "spk_private = 49760804016305672242628858452671561631883295017037579045439043666340119331411\n",
    "spk_pub_x = 13279412479756039023006939294151267045839717479408817839293710814463378950452\n",
    "spk_pub_y = 93617390663867776116902322986952603938589221775532373175859757173961357675363\n",
    "\n",
    "h_spk = 70079813329073930856804606363140448062677695844504871159148958480169809247078\n",
    "s_spk = 42702578452500864554658062321887469197282606023250231586097905168842648683915\n",
    "\n",
    "# OTK data\n",
    "otk_private = [82643481877244209249664745771237418234477690096430811959717657855485886045638, 41174952876732969873061234384234992214813764471036650196683240643681961363261, 5583145587846578787702511470815367992841936970155580384792772696588865599734, 10972659824334756040423367058252295538222729497376669524883637366213216276543, 24476832630378983018284218279520822890885956931179901813178437213634407485252, 97006687499945984175088601268948450846237282033793682470458998922800746644169, 74160389491792105526360889492360032639008866468092295253480592634938957625351, 2064776794757669561866729584104676040173421819183532961139782611452732109747, 58659695490434911403509798003920364225859338325533233728677532945968361081857, 19148444294741063747898074518353049744162854913178507691342149982373162093145]"
   ]
  },
  {
   "cell_type": "code",
   "execution_count": 270,
   "metadata": {},
   "outputs": [],
   "source": [
    "# IK data (ekin)\n",
    "stuID = 26846\n",
    "sA = 26037317628054985808039282432726226222027022467068096985918786230345691957027\n",
    "Q_x = 34966638871069348443434840366429984004050324904300954986624560986102166574831\n",
    "Q_y = 18659130989987264139111259616350811871077628350857638087893010137535414968071\n",
    "\n",
    "s_ik = 10711401428822947968805605574831727095538167654217243597237904326250472141120\n",
    "h_ik = 2310173870477934111899724596823579375648537282076021725587322962459991319407\n",
    "\n",
    "# SPK data\n",
    "spk_private = 108276252172224876587334255735165101721975917778097283393900202750918785959710\n",
    "spk_pub_x = 97710353570137819193379937963704253670763857898842070763814037579480279837106\n",
    "spk_pub_y = 23341606178871725188404066641975812905580291605280961572149830211055662093589\n",
    "\n",
    "h_spk = 50104479202124469309008236680532873175969290556870197285989963025491089808550\n",
    "s_spk = 56354363435458804487927205429170920223354636346201640247065025929905617989041\n",
    "\n",
    "# OTK data\n",
    "otk_private = [17659173398494903595859837776265486632267282615973692643366636303927303998573,\n",
    " 14473739146864278029042056324411178141706024431675113027712939417954206283188,\n",
    " 107116472759777461710331535470627755119415732096838955840726928786766866378666,\n",
    " 85691346369690975217694199379623033734339376768201202924941100869866832183492,\n",
    " 87710805958830227451133596519053378261563154085891809842886507991110103767176,\n",
    " 68151747642013147387751098033133766425559394070275313886866434982699598255656,\n",
    " 76462017522914954423485840189321925592045212928343396294807271130065994199717,\n",
    " 57854208037700907960848908966134841900785197104320808743787041225192523991242,\n",
    " 82293262707090954663575897700430467053294325183793165143798892711835364326076,\n",
    " 75356985148119232958632457566701480858646842676511666125346107634457844697652]"
   ]
  },
  {
   "cell_type": "code",
   "execution_count": 81,
   "metadata": {},
   "outputs": [
    {
     "name": "stdout",
     "output_type": "stream",
     "text": [
      "s: 17315019618322541976448592766302620815363715653266534858153261252238475693602\n",
      "h: 106294522765085930420359036741991921998940543032722415350027706092632704734613\n"
     ]
    }
   ],
   "source": [
    "# Signing my stuID with my private IK in order to get messages from the server:\n",
    "k = random.randint(1, n-2)\n",
    "R = k * P\n",
    "r = R.x % n\n",
    "\n",
    "r_byte_array = r.to_bytes((r.bit_length() +7)//8, byteorder = 'big')\n",
    "m_byte_array = stuID.to_bytes((stuID.bit_length() +7)//8, byteorder = 'big')\n",
    "r_m = r_byte_array + m_byte_array #concatenation of r and m where m is stuID\n",
    "\n",
    "h = SHA3_256.new(r_m)\n",
    "h = int.from_bytes(h.digest(), byteorder='big') % n\n",
    "\n",
    "s = (k - (sA * h)) % n\n",
    "print(\"s:\", s)\n",
    "print(\"h:\", h)\n",
    "\n",
    "PseudoSendMsg(h,s)"
   ]
  },
  {
   "cell_type": "code",
   "execution_count": 271,
   "metadata": {},
   "outputs": [
    {
     "name": "stdout",
     "output_type": "stream",
     "text": [
      "Sending message is:  {'ID': 26846, 'H': 2310173870477934111899724596823579375648537282076021725587322962459991319407, 'S': 10711401428822947968805605574831727095538167654217243597237904326250472141120}\n",
      "{'numMSG': 0, 'numOTK': 10, 'StatusMSG': 'You have 0 unread messages in your mailbox.\\n You have 10 OTKs left. The largest key id is 9'}\n"
     ]
    },
    {
     "data": {
      "text/plain": [
       "(0,\n",
       " 10,\n",
       " 'You have 0 unread messages in your mailbox.\\n You have 10 OTKs left. The largest key id is 9')"
      ]
     },
     "execution_count": 271,
     "metadata": {},
     "output_type": "execute_result"
    }
   ],
   "source": [
    "Status(stuID, h_ik, s_ik)"
   ]
  },
  {
   "cell_type": "code",
   "execution_count": 272,
   "metadata": {},
   "outputs": [
    {
     "name": "stdout",
     "output_type": "stream",
     "text": [
      "Sending message is:  {'ID': 26846, 'H': 106294522765085930420359036741991921998940543032722415350027706092632704734613, 'S': 17315019618322541976448592766302620815363715653266534858153261252238475693602}\n",
      "There is no message in your message box. Pseudo client will send you messages if you call this method: PseudoSendMsg\n"
     ]
    },
    {
     "ename": "TypeError",
     "evalue": "cannot unpack non-iterable NoneType object",
     "output_type": "error",
     "traceback": [
      "\u001b[0;31m---------------------------------------------------------------------------\u001b[0m",
      "\u001b[0;31mTypeError\u001b[0m                                 Traceback (most recent call last)",
      "\u001b[0;32m/var/folders/38/9bttqzsx4y36j6f61cz3vg_r0000gn/T/ipykernel_1131/773741365.py\u001b[0m in \u001b[0;36m<module>\u001b[0;34m\u001b[0m\n\u001b[1;32m      4\u001b[0m \u001b[0mmsg_array\u001b[0m \u001b[0;34m=\u001b[0m \u001b[0;34m[\u001b[0m\u001b[0;34m]\u001b[0m\u001b[0;34m\u001b[0m\u001b[0;34m\u001b[0m\u001b[0m\n\u001b[1;32m      5\u001b[0m \u001b[0;32mfor\u001b[0m \u001b[0mi\u001b[0m \u001b[0;32min\u001b[0m \u001b[0mrange\u001b[0m\u001b[0;34m(\u001b[0m\u001b[0;36m5\u001b[0m\u001b[0;34m)\u001b[0m\u001b[0;34m:\u001b[0m\u001b[0;34m\u001b[0m\u001b[0;34m\u001b[0m\u001b[0m\n\u001b[0;32m----> 6\u001b[0;31m     \u001b[0mstuIDB\u001b[0m\u001b[0;34m,\u001b[0m \u001b[0motkID\u001b[0m\u001b[0;34m,\u001b[0m \u001b[0mmsgID\u001b[0m\u001b[0;34m,\u001b[0m \u001b[0mmsg\u001b[0m\u001b[0;34m,\u001b[0m \u001b[0mek_x\u001b[0m\u001b[0;34m,\u001b[0m \u001b[0mek_y\u001b[0m \u001b[0;34m=\u001b[0m \u001b[0mReqMsg\u001b[0m\u001b[0;34m(\u001b[0m\u001b[0mh\u001b[0m\u001b[0;34m,\u001b[0m\u001b[0ms\u001b[0m\u001b[0;34m)\u001b[0m\u001b[0;34m\u001b[0m\u001b[0;34m\u001b[0m\u001b[0m\n\u001b[0m\u001b[1;32m      7\u001b[0m     \u001b[0mmsg_array\u001b[0m\u001b[0;34m.\u001b[0m\u001b[0mappend\u001b[0m\u001b[0;34m(\u001b[0m\u001b[0mmsg\u001b[0m\u001b[0;34m)\u001b[0m\u001b[0;34m\u001b[0m\u001b[0;34m\u001b[0m\u001b[0m\n\u001b[1;32m      8\u001b[0m     \u001b[0motkID_array\u001b[0m\u001b[0;34m.\u001b[0m\u001b[0mappend\u001b[0m\u001b[0;34m(\u001b[0m\u001b[0motkID\u001b[0m\u001b[0;34m)\u001b[0m\u001b[0;34m\u001b[0m\u001b[0;34m\u001b[0m\u001b[0m\n",
      "\u001b[0;31mTypeError\u001b[0m: cannot unpack non-iterable NoneType object"
     ]
    }
   ],
   "source": [
    "# requesting messages from the server:\n",
    "otkID_array = []\n",
    "msgID_array = []\n",
    "msg_array = []\n",
    "for i in range(5):\n",
    "    stuIDB, otkID, msgID, msg, ek_x, ek_y = ReqMsg(h,s)\n",
    "    msg_array.append(msg)\n",
    "    otkID_array.append(otkID)\n",
    "    msgID_array.append(msgID)\n",
    "    "
   ]
  },
  {
   "cell_type": "code",
   "execution_count": 269,
   "metadata": {},
   "outputs": [
    {
     "name": "stdout",
     "output_type": "stream",
     "text": [
      "HMAC is not verified\n",
      "_________________________________\n",
      "HMAC is not verified\n",
      "_________________________________\n",
      "HMAC is not verified\n",
      "_________________________________\n",
      "HMAC is not verified\n",
      "_________________________________\n",
      "HMAC is not verified\n",
      "_________________________________\n"
     ]
    }
   ],
   "source": [
    "first_iteration = True\n",
    "counter = 0\n",
    "for message in msg_array:\n",
    "    message_byte_array = message.to_bytes((message.bit_length() +7)//8, byteorder = 'big')\n",
    "    \n",
    "    # hmac of the message\n",
    "    message_HMAC = message_byte_array[len(message_byte_array)-32:]\n",
    "    #print(message_HMAC) \n",
    "\n",
    "    # nonce and the ciphertext\n",
    "    message_with_nonce = message_byte_array[:len(message_byte_array)-32]\n",
    "    #print(message_with_nonce)\n",
    "\n",
    "    # ciphertext\n",
    "    ciphertext = message_byte_array[8:len(message_byte_array)-32]\n",
    "    #print(ciphertext)\n",
    "\n",
    "\n",
    "    # _session key generation start_\n",
    "    EK_B_point = Point(ek_x, ek_y, curve = E)\n",
    "    T = otk_private[otkID] * EK_B_point\n",
    "    T_x = T.x\n",
    "    T_y = T.y\n",
    "\n",
    "    T_x_byte_array = T_x.to_bytes((T_x.bit_length() +7)//8, byteorder = 'big')\n",
    "    T_y_byte_array = T_y.to_bytes((T_y.bit_length() +7)//8, byteorder = 'big')\n",
    "    U = T_x_byte_array + T_y_byte_array + b'MadMadWorld'\n",
    "\n",
    "\n",
    "    K_S = SHA3_256.new(U)\n",
    "    # _session key generation end_\n",
    "\n",
    "    # _key derivation start_\n",
    "    if(first_iteration):\n",
    "        K_KDF = K_S\n",
    "        first_iteration = False\n",
    "    else:\n",
    "        K_KDF = SHA3_256.new(K_HMAC.digest() + b'YouWillNotHaveTheDrink')\n",
    "\n",
    "    K_ENC = SHA3_256.new(K_KDF.digest() + b'LeaveMeAlone')\n",
    "    K_HMAC = SHA3_256.new(K_ENC.digest() + b'GlovesAndSteeringWheel')\n",
    "    # _key derivation end_\n",
    "\n",
    "\n",
    "\n",
    "    # obtaining hmac from ciphertext\n",
    "    hmac = HMAC.new(K_HMAC.digest(), ciphertext, digestmod=SHA256)\n",
    "    hmac = hmac.digest()\n",
    "    \n",
    "    # checking MAC values\n",
    "    if(hmac == message_HMAC):\n",
    "        print(\"HMAC is verified\")\n",
    "\n",
    "        # dencryption of the message\n",
    "        cipher = AES.new(K_ENC.digest(), AES.MODE_CTR, nonce = message_with_nonce[0:8])\n",
    "        dtext = cipher.decrypt(ciphertext)\n",
    "        decrypted_message = dtext.decode('utf-8')\n",
    "\n",
    "        print(\"Decrypted message:\", decrypted_message)\n",
    "\n",
    "        # cheking decrypted message\n",
    "        #Checker(25139, stuIDB, msgID_array[counter], decrypted_message)\n",
    "    else: \n",
    "        print(\"HMAC is not verified\")\n",
    "        #Checker(25139, stuIDB, msgID_array[counter], 'INVALIDHMAC')\n",
    "\n",
    "    counter = counter + 1\n",
    "\n",
    "\n",
    "    print(\"_________________________________\")\n",
    "    "
   ]
  },
  {
   "cell_type": "code",
   "execution_count": null,
   "metadata": {},
   "outputs": [],
   "source": []
  }
 ],
 "metadata": {
  "interpreter": {
   "hash": "aee8b7b246df8f9039afb4144a1f6fd8d2ca17a180786b69acc140d282b71a49"
  },
  "kernelspec": {
   "display_name": "Python 3.10.1 64-bit",
   "language": "python",
   "name": "python3"
  },
  "language_info": {
   "codemirror_mode": {
    "name": "ipython",
    "version": 3
   },
   "file_extension": ".py",
   "mimetype": "text/x-python",
   "name": "python",
   "nbconvert_exporter": "python",
   "pygments_lexer": "ipython3",
   "version": "3.10.1"
  },
  "orig_nbformat": 4
 },
 "nbformat": 4,
 "nbformat_minor": 2
}
