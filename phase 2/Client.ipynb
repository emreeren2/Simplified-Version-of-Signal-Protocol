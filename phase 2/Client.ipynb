{
  "cells": [
    {
      "cell_type": "code",
      "execution_count": 1,
      "metadata": {
        "colab": {
          "base_uri": "https://localhost:8080/"
        },
        "id": "wPeEwru76prR",
        "outputId": "d032a35d-3c06-4dff-8ac9-7a440a715c70"
      },
      "outputs": [
        {
          "name": "stdout",
          "output_type": "stream",
          "text": [
            "Requirement already satisfied: ecpy in /Library/Frameworks/Python.framework/Versions/3.10/lib/python3.10/site-packages (1.2.5)\n",
            "\u001b[33mWARNING: You are using pip version 21.2.4; however, version 21.3.1 is available.\n",
            "You should consider upgrading via the '/usr/local/bin/python3 -m pip install --upgrade pip' command.\u001b[0m\n",
            "Note: you may need to restart the kernel to use updated packages.\n"
          ]
        }
      ],
      "source": [
        "pip install ecpy"
      ]
    },
    {
      "cell_type": "code",
      "execution_count": 2,
      "metadata": {
        "colab": {
          "base_uri": "https://localhost:8080/"
        },
        "id": "JE2doiN661rp",
        "outputId": "181d6c00-9c28-459a-cc1c-ca08bbe850bd"
      },
      "outputs": [
        {
          "name": "stdout",
          "output_type": "stream",
          "text": [
            "Requirement already satisfied: pycryptodome in /Library/Frameworks/Python.framework/Versions/3.10/lib/python3.10/site-packages (3.12.0)\n",
            "\u001b[33mWARNING: You are using pip version 21.2.4; however, version 21.3.1 is available.\n",
            "You should consider upgrading via the '/usr/local/bin/python3 -m pip install --upgrade pip' command.\u001b[0m\n",
            "Note: you may need to restart the kernel to use updated packages.\n"
          ]
        }
      ],
      "source": [
        "pip install pycryptodome"
      ]
    },
    {
      "cell_type": "code",
      "execution_count": 3,
      "metadata": {},
      "outputs": [
        {
          "name": "stdout",
          "output_type": "stream",
          "text": [
            "Requirement already satisfied: sympy in /Library/Frameworks/Python.framework/Versions/3.10/lib/python3.10/site-packages (1.9)\n",
            "Requirement already satisfied: mpmath>=0.19 in /Library/Frameworks/Python.framework/Versions/3.10/lib/python3.10/site-packages (from sympy) (1.2.1)\n",
            "\u001b[33mWARNING: You are using pip version 21.2.4; however, version 21.3.1 is available.\n",
            "You should consider upgrading via the '/usr/local/bin/python3 -m pip install --upgrade pip' command.\u001b[0m\n",
            "Note: you may need to restart the kernel to use updated packages.\n"
          ]
        }
      ],
      "source": [
        "pip install sympy"
      ]
    },
    {
      "cell_type": "code",
      "execution_count": 4,
      "metadata": {},
      "outputs": [
        {
          "name": "stdout",
          "output_type": "stream",
          "text": [
            "Requirement already satisfied: requests in /Library/Frameworks/Python.framework/Versions/3.10/lib/python3.10/site-packages (2.26.0)\n",
            "Requirement already satisfied: idna<4,>=2.5 in /Library/Frameworks/Python.framework/Versions/3.10/lib/python3.10/site-packages (from requests) (3.3)\n",
            "Requirement already satisfied: certifi>=2017.4.17 in /Library/Frameworks/Python.framework/Versions/3.10/lib/python3.10/site-packages (from requests) (2021.10.8)\n",
            "Requirement already satisfied: charset-normalizer~=2.0.0 in /Library/Frameworks/Python.framework/Versions/3.10/lib/python3.10/site-packages (from requests) (2.0.9)\n",
            "Requirement already satisfied: urllib3<1.27,>=1.21.1 in /Library/Frameworks/Python.framework/Versions/3.10/lib/python3.10/site-packages (from requests) (1.26.7)\n",
            "\u001b[33mWARNING: You are using pip version 21.2.4; however, version 21.3.1 is available.\n",
            "You should consider upgrading via the '/usr/local/bin/python3 -m pip install --upgrade pip' command.\u001b[0m\n",
            "Note: you may need to restart the kernel to use updated packages.\n"
          ]
        }
      ],
      "source": [
        "pip install requests"
      ]
    },
    {
      "cell_type": "code",
      "execution_count": 4,
      "metadata": {
        "id": "T4avYHWZ6mgy"
      },
      "outputs": [],
      "source": [
        "import math\n",
        "import time\n",
        "import random\n",
        "import sympy\n",
        "import warnings\n",
        "from random import randint, seed\n",
        "import sys\n",
        "from ecpy.curves import Curve,Point\n",
        "from Crypto.Hash import SHA3_256, HMAC, SHA256\n",
        "import requests\n",
        "from Crypto.Cipher import AES\n",
        "from Crypto import Random\n",
        "from Crypto.Util.Padding import pad\n",
        "from Crypto.Util.Padding import unpad\n",
        "import random\n",
        "import re\n",
        "import json\n",
        "\n",
        "from random import randint, seed\n",
        "from ecpy.curves import Curve\n",
        "from Crypto.Hash import SHA3_256\n",
        "from Crypto import Random   # a bit better secure random number generation \n",
        "import math"
      ]
    },
    {
      "cell_type": "code",
      "execution_count": 5,
      "metadata": {
        "colab": {
          "base_uri": "https://localhost:8080/"
        },
        "id": "LdT8kVZb6V4b",
        "outputId": "90379096-f7e8-4fea-ce55-83f39a82f59f"
      },
      "outputs": [
        {
          "name": "stdout",
          "output_type": "stream",
          "text": [
            "Base point:\n",
            " (0x79be667ef9dcbbac55a06295ce870b07029bfcdb2dce28d959f2815b16f81798 , 0x483ada7726a3c4655da4fbfc0e1108a8fd17b448a68554199c47d08ffb10d4b8)\n",
            "p : 115792089237316195423570985008687907853269984665640564039457584007908834671663\n",
            "a : 0\n",
            "b : 7\n",
            "n : 115792089237316195423570985008687907852837564279074904382605163141518161494337\n",
            "\n",
            "Q:\n",
            " (0xf478225f2ca46fcdfef20b3ff3937a7c817c9ef450514ab7a1732ade631aa6cb , 0x36a53d1ff5c8855749a34e8a6dfa29880e5b0a9e458d4e6768a257f5d2ef4468)\n",
            "Q on curve? True\n"
          ]
        }
      ],
      "source": [
        "E = Curve.get_curve('secp256k1')\n",
        "n = E.order\n",
        "p = E.field\n",
        "P = E.generator\n",
        "a = E.a\n",
        "b = E.b\n",
        "print(\"Base point:\\n\", P)\n",
        "print(\"p :\", p)\n",
        "print(\"a :\", a)\n",
        "print(\"b :\", b)\n",
        "print(\"n :\", n)\n",
        "\n",
        "k = Random.new().read(int(math.log(n,2)))\n",
        "k = int.from_bytes(k, byteorder='big')%n\n",
        "\n",
        "Q = k*P\n",
        "print(\"\\nQ:\\n\", Q)\n",
        "print(\"Q on curve?\", E.is_on_curve(Q))"
      ]
    },
    {
      "cell_type": "code",
      "execution_count": 7,
      "metadata": {
        "id": "f2Hj6QD76OqV"
      },
      "outputs": [],
      "source": [
        "API_URL = 'http://10.92.52.175:5000/'\n",
        "\n",
        "stuID =  25139  ## Change this to your ID number\n",
        "\n",
        "#server's Identitiy public key\n",
        "IKey_Ser = Point(93223115898197558905062012489877327981787036929201444813217704012422483432813 , 8985629203225767185464920094198364255740987346743912071843303975587695337619, E)\n",
        "\n",
        "#Send Public Identitiy Key Coordinates and corresponding signature\n",
        "def IKRegReq(h,s,x,y):\n",
        "    mes = {'ID':stuID, 'H': h, 'S': s, 'IKPUB.X': x, 'IKPUB.Y': y}\n",
        "    print(\"Sending message is: \", mes)\n",
        "    response = requests.put('{}/{}'.format(API_URL, \"IKRegReq\"), json = mes)\t\t\n",
        "    if((response.ok) == False): print(response.json())\n",
        "\n",
        "#Send the verification code\n",
        "def IKRegVerify(code):\n",
        "    mes = {'ID':stuID, 'CODE': code}\n",
        "    print(\"Sending message is: \", mes)\n",
        "    response = requests.put('{}/{}'.format(API_URL, \"IKRegVerif\"), json = mes)\n",
        "    if((response.ok) == False): raise Exception(response.json())\n",
        "    print(response.json())\n",
        "\n",
        "#Send SPK Coordinates and corresponding signature\n",
        "def SPKReg(h,s,x,y):\n",
        "    mes = {'ID':stuID, 'H': h, 'S': s, 'SPKPUB.X': x, 'SPKPUB.Y': y}\n",
        "    print(\"Sending message is: \", mes)\n",
        "    response = requests.put('{}/{}'.format(API_URL, \"SPKReg\"), json = mes)\t\t\n",
        "    if((response.ok) == False): \n",
        "        print(response.json())\n",
        "    else: \n",
        "        res = response.json()\n",
        "        return res['SPKPUB.X'], res['SPKPUB.Y'], res['H'], res['S']\n",
        "\n",
        "#Send OTK Coordinates and corresponding hmac\n",
        "def OTKReg(keyID,x,y,hmac):\n",
        "    mes = {'ID':stuID, 'KEYID': keyID, 'OTKI.X': x, 'OTKI.Y': y, 'HMACI': hmac}\n",
        "    print(\"Sending message is: \", mes)\n",
        "    response = requests.put('{}/{}'.format(API_URL, \"OTKReg\"), json = mes)\t\t\n",
        "    print(response.json())\n",
        "    if((response.ok) == False): return False\n",
        "    else: return True\n",
        "\n",
        "#Send the reset code to delete your Identitiy Key\n",
        "#Reset Code is sent when you first registered\n",
        "def ResetIK(rcode):\n",
        "    mes = {'ID':stuID, 'RCODE': rcode}\n",
        "    print(\"Sending message is: \", mes)\n",
        "    response = requests.delete('{}/{}'.format(API_URL, \"ResetIK\"), json = mes)\t\t\n",
        "    print(response.json())\n",
        "    if((response.ok) == False): return False\n",
        "    else: return True\n",
        "\n",
        "#Sign your ID  number and send the signature to delete your SPK\n",
        "def ResetSPK(h,s):\n",
        "    mes = {'ID':stuID, 'H': h, 'S': s}\n",
        "    print(\"Sending message is: \", mes)\n",
        "    response = requests.delete('{}/{}'.format(API_URL, \"ResetSPK\"), json = mes)\t\t\n",
        "    print(response.json())\n",
        "    if((response.ok) == False): return False\n",
        "    else: return True\n",
        "\n",
        "#Send the reset code to delete your Identitiy Key\n",
        "def ResetOTK(h,s):\n",
        "    mes = {'ID':stuID, 'H': h, 'S': s}\n",
        "    print(\"Sending message is: \", mes)\n",
        "    response = requests.delete('{}/{}'.format(API_URL, \"ResetOTK\"), json = mes)\t\t\n",
        "    if((response.ok) == False): print(response.json())\n",
        "\n"
      ]
    },
    {
      "cell_type": "code",
      "execution_count": 8,
      "metadata": {
        "colab": {
          "base_uri": "https://localhost:8080/"
        },
        "id": "CMU0QBr8__q2",
        "outputId": "91669ac0-bf46-45eb-e9da-6ef2752cda27"
      },
      "outputs": [
        {
          "name": "stdout",
          "output_type": "stream",
          "text": [
            "sA: 53233605298669497722986980302469268232522496292809231123336496649869308259002\n",
            "Q: (0x14213fe9fb406ae3de7ce604bdc984a6441ef5cc5f2b57d33a9c96bff265e644 , 0x1abb5e94c8eff0999235235e1f3edffe53d12727946ee0c1a4f7b13c45693e9)\n",
            "Q.x: 9105004042950320749475578173702996851762995069655837995435802152573491078724\n",
            "Q.y: 755699202479272054922048722208735631432459381462857736356380499077106144233\n"
          ]
        }
      ],
      "source": [
        "# IK Generation\n",
        "sA = random.randint(1, n-2) # random secret key\n",
        "sA = 53233605298669497722986980302469268232522496292809231123336496649869308259002\n",
        "Q = sA * P  # generating public key\n",
        "Q_x = Q.x\n",
        "Q_y = Q.y\n",
        "print(\"sA:\", sA)\n",
        "print(\"Q:\", Q)\n",
        "print(\"Q.x:\", Q_x)\n",
        "print(\"Q.y:\", Q_y)"
      ]
    },
    {
      "cell_type": "code",
      "execution_count": 9,
      "metadata": {
        "colab": {
          "base_uri": "https://localhost:8080/"
        },
        "id": "OvX93x-FGbja",
        "outputId": "95a9fc88-8127-4a2b-ac7e-8d7244c125a6"
      },
      "outputs": [
        {
          "name": "stdout",
          "output_type": "stream",
          "text": [
            "b'\\xe2\\xeb\\x83\\xea\\xed\\xdb\\xa3X\\x93JN\\xe2\\xc2\\xa9\\xf8z\\xcc#\\x05\\xcc2\\x91\\xd8\\xbcf}5\\xf9\\xeb\\xf8\\xf3\\xce'\n",
            "b'b3'\n",
            "b'\\xe2\\xeb\\x83\\xea\\xed\\xdb\\xa3X\\x93JN\\xe2\\xc2\\xa9\\xf8z\\xcc#\\x05\\xcc2\\x91\\xd8\\xbcf}5\\xf9\\xeb\\xf8\\xf3\\xceb3'\n",
            "s: 19677716633679573044967781310320752831995692486129512728926291644874365753732\n",
            "h: 11119324924536009736665777875826339055445614518519737802721208624385571883604\n"
          ]
        }
      ],
      "source": [
        "# Signature Generation for IK\n",
        "k = random.randint(1, n-2)\n",
        "R = k * P\n",
        "r = R.x % n\n",
        "\n",
        "r_byte_array = r.to_bytes((r.bit_length() +7)//8, byteorder = 'big')\n",
        "m_byte_array = stuID.to_bytes((stuID.bit_length() +7)//8, byteorder = 'big')\n",
        "r_m = r_byte_array + m_byte_array #concatenation of r and m where m is stuID\n",
        "print(r_byte_array)\n",
        "print(m_byte_array)\n",
        "print(r_m)\n",
        "\n",
        "\n",
        "h = SHA3_256.new(r_m)\n",
        "h = int.from_bytes(h.digest(), byteorder='big') % n\n",
        "\n",
        "\n",
        "s = (k - (sA * h)) % n\n",
        "print(\"s:\", s)\n",
        "print(\"h:\", h)"
      ]
    },
    {
      "cell_type": "code",
      "execution_count": 32,
      "metadata": {
        "colab": {
          "base_uri": "https://localhost:8080/",
          "height": 715
        },
        "id": "QmsW3IwjKqHS",
        "outputId": "074eb2d6-762f-4ae7-8933-52a78551dc1d"
      },
      "outputs": [
        {
          "name": "stdout",
          "output_type": "stream",
          "text": [
            "Sending message is:  {'ID': 25139, 'H': 71229627804431217312713731644888871768719827141354613904065035040829530777224, 'S': 52090617265907631408467595702876736489699008798207174714049253900559611060218, 'IKPUB.X': 9105004042950320749475578173702996851762995069655837995435802152573491078724, 'IKPUB.Y': 755699202479272054922048722208735631432459381462857736356380499077106144233}\n"
          ]
        }
      ],
      "source": [
        "IKRegReq(h, s, Q_x, Q_y)"
      ]
    },
    {
      "cell_type": "code",
      "execution_count": 33,
      "metadata": {},
      "outputs": [
        {
          "name": "stdout",
          "output_type": "stream",
          "text": [
            "Sending message is:  {'ID': 25139, 'CODE': 383087}\n",
            "Registered successfully\n"
          ]
        }
      ],
      "source": [
        "CODE = 383087\n",
        "IKRegVerify(CODE)"
      ]
    },
    {
      "cell_type": "code",
      "execution_count": 34,
      "metadata": {},
      "outputs": [],
      "source": [
        "RCODE = 283463"
      ]
    },
    {
      "cell_type": "code",
      "execution_count": 10,
      "metadata": {},
      "outputs": [
        {
          "name": "stdout",
          "output_type": "stream",
          "text": [
            "spk_private: 68806696133384947541911215590293679233538678492859848006909180781567185984645\n",
            "spk_pub: (0xc9ccfdc9f55be2e9544ca510e824e3dfdb7091e1a22ec72b95adeb6a6690b309 , 0x9f77187e6b35750676b6eb10dddd25354669b2c44b8e7baee5dcf1fa72c24dd2)\n",
            "spk_pub_x: 91277070953065663896295258784311555083273663796409260265740237570154192483081\n",
            "spk_pub_y: 72128166775603992717335251772452157822193335145469096027365938003749086842322\n",
            "h: 68975290966468059351190438777310957537904953271245692071820834840045490692956\n",
            "s: 97097110769674868447341168419991388088047837688022658476112728070414488896876\n"
          ]
        }
      ],
      "source": [
        "# SPK Generation\n",
        "spk_private = random.randint(1, n-2) # random secret key\n",
        "spk_private = 68806696133384947541911215590293679233538678492859848006909180781567185984645\n",
        "spk_pub = spk_private * Q  # generating public key\n",
        "spk_pub_x = spk_pub.x\n",
        "spk_pub_y = spk_pub.y\n",
        "print(\"spk_private:\", spk_private)\n",
        "print(\"spk_pub:\", spk_pub)\n",
        "print(\"spk_pub_x:\", spk_pub_x)\n",
        "print(\"spk_pub_y:\", spk_pub_y)\n",
        "\n",
        "# Signature Generation for SPK\n",
        "\n",
        "# calculating to be signed message\n",
        "spk_pub_x_byte_array = spk_pub_x.to_bytes((spk_pub_x.bit_length() +7)//8, byteorder = 'big')\n",
        "spk_pub_y_byte_array = spk_pub_y.to_bytes((spk_pub_y.bit_length() +7)//8, byteorder = 'big')\n",
        "spk_x_y = spk_pub_x_byte_array + spk_pub_y_byte_array #concatenation of spk.x and spk.y \n",
        "m = spk_x_y\n",
        "#print(\"spk_pub_x_byte_array\", spk_pub_x_byte_array)\n",
        "#print(\"spk_pub_y_byte_array\", spk_pub_y_byte_array)\n",
        "#print(\"concatenation of spk.x and spk.y:\", spk_x_y)\n",
        "\n",
        "# signature generation\n",
        "k = random.randint(1, n-2)\n",
        "\n",
        "R = k * P #P # Q is public IK\n",
        "r = R.x % n\n",
        "r_byte_array = r.to_bytes((r.bit_length() +7)//8, byteorder = 'big')\n",
        "r_m = r_byte_array + m # concatenation of r and m where m is concatenation of spk.x and spk.y \n",
        "\n",
        "\n",
        "h = SHA3_256.new(r_m)\n",
        "h = int.from_bytes(h.digest(), byteorder='big') % n\n",
        "\n",
        "s = (k - (sA * h)) % n\n",
        "\n",
        "print(\"h:\", h)\n",
        "print(\"s:\", s)"
      ]
    },
    {
      "cell_type": "code",
      "execution_count": 36,
      "metadata": {},
      "outputs": [
        {
          "name": "stdout",
          "output_type": "stream",
          "text": [
            "Sending message is:  {'ID': 25139, 'H': 99050794899465936661610030166643218732709063479765855172743455036518385083664, 'S': 44069841590814678657653897474087527163525949711625715486439247339443688774720, 'SPKPUB.X': 91277070953065663896295258784311555083273663796409260265740237570154192483081, 'SPKPUB.Y': 72128166775603992717335251772452157822193335145469096027365938003749086842322}\n"
          ]
        },
        {
          "data": {
            "text/plain": [
              "(85040781858568445399879179922879835942032506645887434621361669108644661638219,\n",
              " 46354559534391251764410704735456214670494836161052287022185178295305851364841,\n",
              " 85044830889796253571729350975661241042992375374441662462539708185257601377291,\n",
              " 7613849236463760334895211055274054255938630463536025794347835572470601614597)"
            ]
          },
          "execution_count": 36,
          "metadata": {},
          "output_type": "execute_result"
        }
      ],
      "source": [
        "SPKReg(h, s, spk_pub_x, spk_pub_y)"
      ]
    },
    {
      "cell_type": "code",
      "execution_count": 11,
      "metadata": {},
      "outputs": [
        {
          "name": "stdout",
          "output_type": "stream",
          "text": [
            "h_: 85044830889796253571729350975661241042992375374441662462539708185257601377291\n",
            "h : 85044830889796253571729350975661241042992375374441662462539708185257601377291\n",
            "verified\n"
          ]
        }
      ],
      "source": [
        "server_SPK_pub = (85040781858568445399879179922879835942032506645887434621361669108644661638219,\n",
        " 46354559534391251764410704735456214670494836161052287022185178295305851364841,\n",
        " 85044830889796253571729350975661241042992375374441662462539708185257601377291,\n",
        " 7613849236463760334895211055274054255938630463536025794347835572470601614597)\n",
        "\n",
        "server_H = server_SPK_pub[2]\n",
        "server_S = server_SPK_pub[3]\n",
        "server_SPK_pub_x = server_SPK_pub[0]\n",
        "server_SPK_pub_y = server_SPK_pub[1]\n",
        "Q = sA * P  \n",
        "\n",
        "\n",
        "#Signature Verification:\n",
        "server_spk_pub_x_byte_array = server_SPK_pub_x.to_bytes((server_SPK_pub_x.bit_length() +7)//8, byteorder = 'big')\n",
        "server_spk_pub_y_byte_array = server_SPK_pub_y.to_bytes((server_SPK_pub_y.bit_length() +7)//8, byteorder = 'big')\n",
        "server_spk_x_y = server_spk_pub_x_byte_array + server_spk_pub_y_byte_array # concatenation of server_spk.x and server_spk.y \n",
        "\n",
        "V = (server_S*P) + (server_H*IKey_Ser) \n",
        "v = V.x % n\n",
        "v_byte_array = v.to_bytes((v.bit_length() +7)//8, byteorder = 'big')\n",
        "v_m = v_byte_array + server_spk_x_y\n",
        "h_ = SHA3_256.new(v_m)\n",
        "h_ = int.from_bytes(h_.digest(), byteorder='big') % n\n",
        "\n",
        "print(\"h_:\", h_)\n",
        "print(\"h :\", server_H)\n",
        "if(server_H == h_):\n",
        "    print(\"verified\")\n",
        "else:\n",
        "    print(\"not verified\")\n"
      ]
    },
    {
      "cell_type": "code",
      "execution_count": 23,
      "metadata": {},
      "outputs": [
        {
          "name": "stdout",
          "output_type": "stream",
          "text": [
            "T_x_byte_array: b'\\x0f\\xb1\\x17+>\\xf6\\xb8\\xd2\\xca5`C\\xf0\\xe85=\\xd6\\xd50SgPU\\xbb\\x07\\x9a_\\xb5\\xbf&\\x16W'\n",
            "T_y_byte_array: b'\\'_\\xc3p\\xbb\"\\xba\\x95\\x0e\\t\\xcb\\xc6=\\xc0\\xc5\\x16\\x88A_\\x9b\\x89M\\xc7\\x05\\xf5\\xba\\x9b\\xf5<\\xcb\\xa2\\xca'\n",
            "U: b'\\x0f\\xb1\\x17+>\\xf6\\xb8\\xd2\\xca5`C\\xf0\\xe85=\\xd6\\xd50SgPU\\xbb\\x07\\x9a_\\xb5\\xbf&\\x16W\\'_\\xc3p\\xbb\"\\xba\\x95\\x0e\\t\\xcb\\xc6=\\xc0\\xc5\\x16\\x88A_\\x9b\\x89M\\xc7\\x05\\xf5\\xba\\x9b\\xf5<\\xcb\\xa2\\xcaNoNeedToRideAndHide'\n",
            "K_HMAC: b'*%R0k\\xa8\\x1a\\xee\\xc5q\\x1eC\\x8eu\\xa3\\x073>d\\xe6\\xbc\\x8b\\xb9\\x1a\\nE\\x1b\\xf7x\\xbc\\x1dc'\n"
          ]
        }
      ],
      "source": [
        "# Generating HMAC Key (KHMAC):\n",
        "server_SPK_pub_points = Point(server_SPK_pub_x, server_SPK_pub_y, E)\n",
        "T = spk_private * server_SPK_pub_points\n",
        "T_x = T.x\n",
        "T_y = T.y\n",
        "\n",
        "T_x_byte_array = T_x.to_bytes((T_x.bit_length() +7)//8, byteorder = 'big')\n",
        "T_y_byte_array = T_y.to_bytes((T_y.bit_length() +7)//8, byteorder = 'big')\n",
        "joker = bytes(\"NoNeedToRideAndHide\", 'utf-8')\n",
        "U = T_x_byte_array + T_y_byte_array + joker\n",
        "\n",
        "K_HMAC = SHA3_256.new(U)\n",
        "\n",
        "print(\"T_x_byte_array:\", T_x_byte_array)\n",
        "print(\"T_y_byte_array:\", T_y_byte_array)\n",
        "print(\"U:\", U)\n",
        "print(\"K_HMAC:\", K_HMAC.digest())"
      ]
    },
    {
      "cell_type": "code",
      "execution_count": 24,
      "metadata": {},
      "outputs": [
        {
          "name": "stdout",
          "output_type": "stream",
          "text": [
            "for ID: 0\n",
            "private: 61830615680376783745858199796063924219722469598859981131360422531702033867739\n",
            "public: (0x316e3d476e12c12ff9ec0bdeda9fde71a4f8420fdc01fd0786777eb93151461c , 0x6ade61170c3cff355c1433bd0c248b7d758b40985e62a72b18c01f0d39a0d937)\n",
            "public_x: 22358105689981110192877136013451989349486874741082270169087518311817025766940\n",
            "public_y: 48338072088970290690419900236245617258263392210805815947298339506119138924855\n",
            "hmac.hexdigest(): 127ad144adcb8e2888fca6824891ee4c4be609f4870850707383383ca551fd81\n",
            "Sending message is:  {'ID': 25139, 'KEYID': 0, 'OTKI.X': 22358105689981110192877136013451989349486874741082270169087518311817025766940, 'OTKI.Y': 48338072088970290690419900236245617258263392210805815947298339506119138924855, 'HMACI': '127ad144adcb8e2888fca6824891ee4c4be609f4870850707383383ca551fd81'}\n",
            "The server couldn't verify the hmac!!\n",
            "------------------------------------------\n",
            "for ID: 1\n",
            "private: 113222668204580479107246076442462548307149633188995441190312141663974698376195\n",
            "public: (0x826cbd553e7c2b20b61236be4e507cb70dbc67a5cb85b1ebc6069942d3637d8f , 0xc6a59643ec08d4941a5d55d1b6a46914acd62723db8907f2b6b2ab89e111d4ef)\n",
            "public_x: 58992796527056148148882377856308154908821413975128129120308735880657763532175\n",
            "public_y: 89850510878300957039377445361412786147880306518975801058061903521449778468079\n",
            "hmac.hexdigest(): 665870aafd83b89403da21f9da5675f268b5d6d8355bbd3e19593fdf083eb2f9\n",
            "Sending message is:  {'ID': 25139, 'KEYID': 1, 'OTKI.X': 58992796527056148148882377856308154908821413975128129120308735880657763532175, 'OTKI.Y': 89850510878300957039377445361412786147880306518975801058061903521449778468079, 'HMACI': '665870aafd83b89403da21f9da5675f268b5d6d8355bbd3e19593fdf083eb2f9'}\n",
            "The server couldn't verify the hmac!!\n",
            "------------------------------------------\n",
            "for ID: 2\n",
            "private: 70578995131961558373790905082879713840006339114898618385181625238462861425963\n",
            "public: (0x1b7333f7ed5dc7559467cc257b2e3b916f4acbb56e520c9f7ea6e94437c09be5 , 0xd5572d85256f2487a75b4cc4b5056d0f012566cf60d36b932ef8d622e1bccc49)\n",
            "public_x: 12415992997365811213212137588896618818529274839897079260828918527630273190885\n",
            "public_y: 96496666611072248711081500110191848762162539803682201972970840634188243979337\n",
            "hmac.hexdigest(): a9ae3a262697751c9f70ce284f0d56586aff8a5c55ca27abe76a06008169d9c3\n",
            "Sending message is:  {'ID': 25139, 'KEYID': 2, 'OTKI.X': 12415992997365811213212137588896618818529274839897079260828918527630273190885, 'OTKI.Y': 96496666611072248711081500110191848762162539803682201972970840634188243979337, 'HMACI': 'a9ae3a262697751c9f70ce284f0d56586aff8a5c55ca27abe76a06008169d9c3'}\n",
            "The server couldn't verify the hmac!!\n",
            "------------------------------------------\n",
            "for ID: 3\n",
            "private: 90350492533224120854324325789016233862052310048649625807443614458049937185256\n",
            "public: (0xabc996114cb9c89d764121abb8c8641c0581b7ebdcc699c2f03dba17677663a9 , 0x13c729b27394157a8aad7812aa2e4fe994c709f802504b98f8aa75253c8866a)\n",
            "public_x: 77701669096110280716813532077172452511741490137448866550117941118313654805417\n",
            "public_y: 559114654475969797001254434915497902013924118998481641897699120710135875178\n",
            "hmac.hexdigest(): f84ee67b62e106f5fc51e46e722957e1c460e2fb8e8d58038b9a2aa9d0d7d5ab\n",
            "Sending message is:  {'ID': 25139, 'KEYID': 3, 'OTKI.X': 77701669096110280716813532077172452511741490137448866550117941118313654805417, 'OTKI.Y': 559114654475969797001254434915497902013924118998481641897699120710135875178, 'HMACI': 'f84ee67b62e106f5fc51e46e722957e1c460e2fb8e8d58038b9a2aa9d0d7d5ab'}\n",
            "The server couldn't verify the hmac!!\n",
            "------------------------------------------\n",
            "for ID: 4\n",
            "private: 98849971176720056354628161121983204375274909247171154600495391244311234862778\n",
            "public: (0x5b891a4b0b8c648e82f1e5b17f86ca0c2971d2f848f09a3a7af83db4e5c6d06d , 0xab01a16575160937041baa98fd06104fb0f67c7627729120ae815a0cdcf229f5)\n",
            "public_x: 41402708737569086042305871705247270896629053053526585548200661528587054534765\n",
            "public_y: 77348377871250380667222591830137921195560446722016421137087473697020018043381\n",
            "hmac.hexdigest(): a3b6d39f6c6472221ba8de6e92d76f37ecb3f7f28be36249524b68db3fdba2d4\n",
            "Sending message is:  {'ID': 25139, 'KEYID': 4, 'OTKI.X': 41402708737569086042305871705247270896629053053526585548200661528587054534765, 'OTKI.Y': 77348377871250380667222591830137921195560446722016421137087473697020018043381, 'HMACI': 'a3b6d39f6c6472221ba8de6e92d76f37ecb3f7f28be36249524b68db3fdba2d4'}\n",
            "The server couldn't verify the hmac!!\n",
            "------------------------------------------\n",
            "for ID: 5\n",
            "private: 63251862866796279244966924125551618299013785116646550540836958149453868264530\n",
            "public: (0xe8251a4dd221b97e52dc5756d7b9b4f494337daac72419eaa94be274426ca1eb , 0x137857d42c50108c82641b225468bee1fb8eb6a4114ba4045034aaffd8db8fde)\n",
            "public_x: 105002135756164966987543179033784935211230541251318344529105905673484293153259\n",
            "public_y: 8806571942963009231191368444604855304080746401570005369602851644320763318238\n",
            "hmac.hexdigest(): fe5af8bd046ff14c1c03291f7fc1080555905e9bc33e366037fbc4677a31b0eb\n",
            "Sending message is:  {'ID': 25139, 'KEYID': 5, 'OTKI.X': 105002135756164966987543179033784935211230541251318344529105905673484293153259, 'OTKI.Y': 8806571942963009231191368444604855304080746401570005369602851644320763318238, 'HMACI': 'fe5af8bd046ff14c1c03291f7fc1080555905e9bc33e366037fbc4677a31b0eb'}\n",
            "The server couldn't verify the hmac!!\n",
            "------------------------------------------\n",
            "for ID: 6\n",
            "private: 65391406406551122840032049018370302862704054353435695585090099853719796997122\n",
            "public: (0xf9dede8cd813da273bce2667519bf11c11feca26302b727ee8c9fafd489a7c9e , 0xe7100971d3d0b8dc18f9bd247729ce8cef0ee7df635ed043053df46a1b49093b)\n",
            "public_x: 113019675330451274638198254936270761359444923144752545298657636437704086027422\n",
            "public_y: 104512602760268841203828790536990619882977252287130078328592673793469357558075\n",
            "hmac.hexdigest(): e3306b2a22af7d46fa5ca43166a8f03706cb13d0dd3a796e79fb0b6740e20afe\n",
            "Sending message is:  {'ID': 25139, 'KEYID': 6, 'OTKI.X': 113019675330451274638198254936270761359444923144752545298657636437704086027422, 'OTKI.Y': 104512602760268841203828790536990619882977252287130078328592673793469357558075, 'HMACI': 'e3306b2a22af7d46fa5ca43166a8f03706cb13d0dd3a796e79fb0b6740e20afe'}\n",
            "The server couldn't verify the hmac!!\n",
            "------------------------------------------\n",
            "for ID: 7\n",
            "private: 65248905370447151757012740518015521347327576958734255499046905964585608656343\n",
            "public: (0xcc79f2aee5d52197845ac13917cf9db5881b16d0cd85a2fc666328071b685fd2 , 0x250f15a81000026160b82c01bd1a3dbdc8a602011773ee8d86b248f6abf019d7)\n",
            "public_x: 92487284543675363022505686888043789812229736119263162185992988151967455403986\n",
            "public_y: 16762227571181855309727190175520476009843579826384553358183326600614969874903\n",
            "hmac.hexdigest(): 1d1e23511e816d59d7c7a7ec9db46b2ce42d47e9cfda4f427ee7db29e7ce127b\n",
            "Sending message is:  {'ID': 25139, 'KEYID': 7, 'OTKI.X': 92487284543675363022505686888043789812229736119263162185992988151967455403986, 'OTKI.Y': 16762227571181855309727190175520476009843579826384553358183326600614969874903, 'HMACI': '1d1e23511e816d59d7c7a7ec9db46b2ce42d47e9cfda4f427ee7db29e7ce127b'}\n",
            "The server couldn't verify the hmac!!\n",
            "------------------------------------------\n",
            "for ID: 8\n",
            "private: 103987285374787372571795719940604878167182836195082634946649659920273375251174\n",
            "public: (0xfe0e3e89397cd28b51c67549d138bca06dc62a33d0ca93472657dcdcbeedceb , 0x21e49aff7e661bf9169cb07a121043895d4b88439a647ff41a22b4bbfedb3fd)\n",
            "public_x: 7182039437931056502495453190588662292340427257074517563979012384910142790891\n",
            "public_y: 958139680690776398814435711293943942796095272999760925419145806022464877565\n",
            "hmac.hexdigest(): c93a77db594f981986b0f0265d088485cfeb98b667d2e41b4b6723481e169c20\n",
            "Sending message is:  {'ID': 25139, 'KEYID': 8, 'OTKI.X': 7182039437931056502495453190588662292340427257074517563979012384910142790891, 'OTKI.Y': 958139680690776398814435711293943942796095272999760925419145806022464877565, 'HMACI': 'c93a77db594f981986b0f0265d088485cfeb98b667d2e41b4b6723481e169c20'}\n",
            "The server couldn't verify the hmac!!\n",
            "------------------------------------------\n",
            "for ID: 9\n",
            "private: 87606458277997298625739043778163820368129596096660027071135525441288345994550\n",
            "public: (0x5d30b26938c1562123ff424e1ac6bdde29e264e4b85dbe44a5897c076ffd60fe , 0x4ea8a1067bae285a416cfe8cfcce316e23f342ce36b173396e743497b565fe90)\n",
            "public_x: 42151134924974287670739247650093787956355164934444350595430731875199836053758\n",
            "public_y: 35578343852324116311704062155882601473339017599823081984647029472995037281936\n",
            "hmac.hexdigest(): ee6fa6c27a5406ea5b6f7ca42a443595fd90f91ec97021dfe4f53a1449765c25\n",
            "Sending message is:  {'ID': 25139, 'KEYID': 9, 'OTKI.X': 42151134924974287670739247650093787956355164934444350595430731875199836053758, 'OTKI.Y': 35578343852324116311704062155882601473339017599823081984647029472995037281936, 'HMACI': 'ee6fa6c27a5406ea5b6f7ca42a443595fd90f91ec97021dfe4f53a1449765c25'}\n",
            "The server couldn't verify the hmac!!\n",
            "------------------------------------------\n"
          ]
        }
      ],
      "source": [
        "# OTKs generation\n",
        "hmac_array = [] \n",
        "OTK_public = []\n",
        "OTK_private = []\n",
        "\n",
        "for i in range(10):\n",
        "    print(\"for ID:\", i)\n",
        "    otk_private = random.randint(1, n-2) # random secret key\n",
        "    otk_pub = otk_private * P # generating public key\n",
        "\n",
        "    otk_pub_x = otk_pub.x\n",
        "    otk_pub_y = otk_pub.y\n",
        "\n",
        "    print(\"private:\", otk_private)\n",
        "    print(\"public:\", otk_pub)\n",
        "    print(\"public_x:\", otk_pub_x)\n",
        "    print(\"public_y:\", otk_pub_y)\n",
        "\n",
        "    otk_pub_x_byte_array = otk_pub_x.to_bytes((otk_pub_x.bit_length() +7)//8, byteorder = 'big')\n",
        "    otk_pub_y_byte_array = otk_pub_y.to_bytes((otk_pub_y.bit_length() +7)//8, byteorder = 'big')\n",
        "    otk_public_x_y = otk_pub_x_byte_array + otk_pub_y_byte_array #concatenation of x and y \n",
        "\n",
        "    hmac = HMAC.new(key = K_HMAC.digest(), msg = otk_public_x_y, digestmod = SHA256)\n",
        "    \n",
        "    print(\"hmac.hexdigest():\", hmac.hexdigest())\n",
        "    hmac_array.append(hmac)\n",
        "    OTK_public.append(otk_pub)\n",
        "    OTK_private.append(otk_private)\n",
        "\n",
        "    OTKReg(i, otk_pub_x, otk_pub_y, hmac.hexdigest())\n",
        "    print('------------------------------------------')\n"
      ]
    },
    {
      "cell_type": "code",
      "execution_count": null,
      "metadata": {},
      "outputs": [],
      "source": []
    }
  ],
  "metadata": {
    "colab": {
      "collapsed_sections": [],
      "name": "cs411_termproject_phase1",
      "provenance": []
    },
    "kernelspec": {
      "display_name": "Python 3",
      "name": "python3"
    },
    "language_info": {
      "codemirror_mode": {
        "name": "ipython",
        "version": 3
      },
      "file_extension": ".py",
      "mimetype": "text/x-python",
      "name": "python",
      "nbconvert_exporter": "python",
      "pygments_lexer": "ipython3",
      "version": "3.10.1"
    }
  },
  "nbformat": 4,
  "nbformat_minor": 0
}
