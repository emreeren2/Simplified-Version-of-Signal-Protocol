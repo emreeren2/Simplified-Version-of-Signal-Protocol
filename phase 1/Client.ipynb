{
  "cells": [
    {
      "cell_type": "code",
      "execution_count": 1,
      "metadata": {
        "colab": {
          "base_uri": "https://localhost:8080/"
        },
        "id": "wPeEwru76prR",
        "outputId": "d032a35d-3c06-4dff-8ac9-7a440a715c70"
      },
      "outputs": [
        {
          "name": "stdout",
          "output_type": "stream",
          "text": [
            "Requirement already satisfied: ecpy in /Library/Frameworks/Python.framework/Versions/3.10/lib/python3.10/site-packages (1.2.5)\n",
            "\u001b[33mWARNING: You are using pip version 21.2.4; however, version 21.3.1 is available.\n",
            "You should consider upgrading via the '/usr/local/bin/python3 -m pip install --upgrade pip' command.\u001b[0m\n",
            "Note: you may need to restart the kernel to use updated packages.\n"
          ]
        }
      ],
      "source": [
        "pip install ecpy"
      ]
    },
    {
      "cell_type": "code",
      "execution_count": 2,
      "metadata": {
        "colab": {
          "base_uri": "https://localhost:8080/"
        },
        "id": "JE2doiN661rp",
        "outputId": "181d6c00-9c28-459a-cc1c-ca08bbe850bd"
      },
      "outputs": [
        {
          "name": "stdout",
          "output_type": "stream",
          "text": [
            "Requirement already satisfied: pycryptodome in /Library/Frameworks/Python.framework/Versions/3.10/lib/python3.10/site-packages (3.12.0)\n",
            "\u001b[33mWARNING: You are using pip version 21.2.4; however, version 21.3.1 is available.\n",
            "You should consider upgrading via the '/usr/local/bin/python3 -m pip install --upgrade pip' command.\u001b[0m\n",
            "Note: you may need to restart the kernel to use updated packages.\n"
          ]
        }
      ],
      "source": [
        "pip install pycryptodome"
      ]
    },
    {
      "cell_type": "code",
      "execution_count": 3,
      "metadata": {},
      "outputs": [
        {
          "name": "stdout",
          "output_type": "stream",
          "text": [
            "Requirement already satisfied: sympy in /Library/Frameworks/Python.framework/Versions/3.10/lib/python3.10/site-packages (1.9)\n",
            "Requirement already satisfied: mpmath>=0.19 in /Library/Frameworks/Python.framework/Versions/3.10/lib/python3.10/site-packages (from sympy) (1.2.1)\n",
            "\u001b[33mWARNING: You are using pip version 21.2.4; however, version 21.3.1 is available.\n",
            "You should consider upgrading via the '/usr/local/bin/python3 -m pip install --upgrade pip' command.\u001b[0m\n",
            "Note: you may need to restart the kernel to use updated packages.\n"
          ]
        }
      ],
      "source": [
        "pip install sympy"
      ]
    },
    {
      "cell_type": "code",
      "execution_count": 4,
      "metadata": {},
      "outputs": [
        {
          "name": "stdout",
          "output_type": "stream",
          "text": [
            "Requirement already satisfied: requests in /Library/Frameworks/Python.framework/Versions/3.10/lib/python3.10/site-packages (2.26.0)\n",
            "Requirement already satisfied: certifi>=2017.4.17 in /Library/Frameworks/Python.framework/Versions/3.10/lib/python3.10/site-packages (from requests) (2021.10.8)\n",
            "Requirement already satisfied: urllib3<1.27,>=1.21.1 in /Library/Frameworks/Python.framework/Versions/3.10/lib/python3.10/site-packages (from requests) (1.26.7)\n",
            "Requirement already satisfied: idna<4,>=2.5 in /Library/Frameworks/Python.framework/Versions/3.10/lib/python3.10/site-packages (from requests) (3.3)\n",
            "Requirement already satisfied: charset-normalizer~=2.0.0 in /Library/Frameworks/Python.framework/Versions/3.10/lib/python3.10/site-packages (from requests) (2.0.9)\n",
            "\u001b[33mWARNING: You are using pip version 21.2.4; however, version 21.3.1 is available.\n",
            "You should consider upgrading via the '/usr/local/bin/python3 -m pip install --upgrade pip' command.\u001b[0m\n",
            "Note: you may need to restart the kernel to use updated packages.\n"
          ]
        }
      ],
      "source": [
        "pip install requests"
      ]
    },
    {
      "cell_type": "code",
      "execution_count": 30,
      "metadata": {
        "id": "T4avYHWZ6mgy"
      },
      "outputs": [],
      "source": [
        "import math\n",
        "import time\n",
        "import random\n",
        "import sympy\n",
        "import warnings\n",
        "from random import randint, seed\n",
        "import sys\n",
        "from ecpy.curves import Curve,Point\n",
        "from Crypto.Hash import SHA3_256, HMAC, SHA256\n",
        "import requests\n",
        "from Crypto.Cipher import AES\n",
        "from Crypto import Random\n",
        "from Crypto.Util.Padding import pad\n",
        "from Crypto.Util.Padding import unpad\n",
        "import random\n",
        "import re\n",
        "import json\n",
        "\n",
        "from random import randint, seed\n",
        "from ecpy.curves import Curve\n",
        "from Crypto.Hash import SHA3_256\n",
        "from Crypto import Random   # a bit better secure random number generation \n",
        "import math"
      ]
    },
    {
      "cell_type": "code",
      "execution_count": 32,
      "metadata": {},
      "outputs": [],
      "source": [
        "# IK data emre\n",
        "sA = 75365099691681163466259435055151388598990196366045037773536006665067396329561\n",
        "Q_x = 87058090705547232336742506266448902457032608537577399368869745072849975094263\n",
        "Q_y = 73863361865121729253370141189521784002483174318560123943873444021233722393171\n",
        "\n",
        "s_ik = 38435919104545028465405229083851199426577612833328471419512121279897034838259\n",
        "h_ik = 40139398399024429188254655216662123008175195428486006903289784284292094948763\n",
        "\n",
        "# SPK data\n",
        "spk_private = 49760804016305672242628858452671561631883295017037579045439043666340119331411\n",
        "spk_pub_x = 13279412479756039023006939294151267045839717479408817839293710814463378950452\n",
        "spk_pub_y = 93617390663867776116902322986952603938589221775532373175859757173961357675363\n",
        "\n",
        "h_spk = 70079813329073930856804606363140448062677695844504871159148958480169809247078\n",
        "s_spk = 42702578452500864554658062321887469197282606023250231586097905168842648683915\n",
        "\n",
        "# OTK data\n"
      ]
    },
    {
      "cell_type": "code",
      "execution_count": 42,
      "metadata": {},
      "outputs": [],
      "source": [
        "# IK data (ekin)\n",
        "stuID = 26846\n",
        "sA = 26037317628054985808039282432726226222027022467068096985918786230345691957027\n",
        "Q_x = 34966638871069348443434840366429984004050324904300954986624560986102166574831\n",
        "Q_y = 18659130989987264139111259616350811871077628350857638087893010137535414968071\n",
        "\n",
        "s_ik = 10711401428822947968805605574831727095538167654217243597237904326250472141120\n",
        "h_ik = 2310173870477934111899724596823579375648537282076021725587322962459991319407\n",
        "\n",
        "# SPK data\n",
        "spk_private = 108276252172224876587334255735165101721975917778097283393900202750918785959710\n",
        "spk_pub_x = 97710353570137819193379937963704253670763857898842070763814037579480279837106\n",
        "spk_pub_y = 23341606178871725188404066641975812905580291605280961572149830211055662093589\n",
        "\n",
        "h_spk = 50104479202124469309008236680532873175969290556870197285989963025491089808550\n",
        "s_spk = 56354363435458804487927205429170920223354636346201640247065025929905617989041\n",
        "\n",
        "# OTK data\n"
      ]
    },
    {
      "cell_type": "code",
      "execution_count": 43,
      "metadata": {
        "colab": {
          "base_uri": "https://localhost:8080/"
        },
        "id": "LdT8kVZb6V4b",
        "outputId": "90379096-f7e8-4fea-ce55-83f39a82f59f"
      },
      "outputs": [
        {
          "name": "stdout",
          "output_type": "stream",
          "text": [
            "Base point:\n",
            " (0x79be667ef9dcbbac55a06295ce870b07029bfcdb2dce28d959f2815b16f81798 , 0x483ada7726a3c4655da4fbfc0e1108a8fd17b448a68554199c47d08ffb10d4b8)\n",
            "p : 115792089237316195423570985008687907853269984665640564039457584007908834671663\n",
            "a : 0\n",
            "b : 7\n",
            "n : 115792089237316195423570985008687907852837564279074904382605163141518161494337\n",
            "\n",
            "Q:\n",
            " (0x9ceca32cc21eb150f4e19568a63909a10ec6354a644ec63de7aa540fac735ea6 , 0x167329256c81b7dd3164421f868c1e4bcf33e93edb51757f8565a8d3f216c2b8)\n",
            "Q on curve? True\n"
          ]
        }
      ],
      "source": [
        "E = Curve.get_curve('secp256k1')\n",
        "n = E.order\n",
        "p = E.field\n",
        "P = E.generator\n",
        "a = E.a\n",
        "b = E.b\n",
        "print(\"Base point:\\n\", P)\n",
        "print(\"p :\", p)\n",
        "print(\"a :\", a)\n",
        "print(\"b :\", b)\n",
        "print(\"n :\", n)\n",
        "\n",
        "k = Random.new().read(int(math.log(n,2)))\n",
        "k = int.from_bytes(k, byteorder='big')%n\n",
        "\n",
        "Q = k*P\n",
        "print(\"\\nQ:\\n\", Q)\n",
        "print(\"Q on curve?\", E.is_on_curve(Q))"
      ]
    },
    {
      "cell_type": "code",
      "execution_count": 36,
      "metadata": {
        "id": "f2Hj6QD76OqV"
      },
      "outputs": [],
      "source": [
        "API_URL = 'http://10.92.52.175:5000/'\n",
        "\n",
        "stuID =  25139  ## Change this to your ID number\n",
        "\n",
        "#server's Identitiy public key\n",
        "IKey_Ser = Point(93223115898197558905062012489877327981787036929201444813217704012422483432813 , 8985629203225767185464920094198364255740987346743912071843303975587695337619, E)\n",
        "\n",
        "#Send Public Identitiy Key Coordinates and corresponding signature\n",
        "def IKRegReq(h,s,x,y):\n",
        "    mes = {'ID':stuID, 'H': h, 'S': s, 'IKPUB.X': x, 'IKPUB.Y': y}\n",
        "    print(\"Sending message is: \", mes)\n",
        "    response = requests.put('{}/{}'.format(API_URL, \"IKRegReq\"), json = mes)\t\t\n",
        "    if((response.ok) == False): print(response.json())\n",
        "\n",
        "#Send the verification code\n",
        "def IKRegVerify(code):\n",
        "    mes = {'ID':stuID, 'CODE': code}\n",
        "    print(\"Sending message is: \", mes)\n",
        "    response = requests.put('{}/{}'.format(API_URL, \"IKRegVerif\"), json = mes)\n",
        "    if((response.ok) == False): raise Exception(response.json())\n",
        "    print(response.json())\n",
        "\n",
        "#Send SPK Coordinates and corresponding signature\n",
        "def SPKReg(h,s,x,y):\n",
        "    mes = {'ID':stuID, 'H': h, 'S': s, 'SPKPUB.X': x, 'SPKPUB.Y': y}\n",
        "    print(\"Sending message is: \", mes)\n",
        "    response = requests.put('{}/{}'.format(API_URL, \"SPKReg\"), json = mes)\t\t\n",
        "    if((response.ok) == False): \n",
        "        print(response.json())\n",
        "    else: \n",
        "        res = response.json()\n",
        "        return res['SPKPUB.X'], res['SPKPUB.Y'], res['H'], res['S']\n",
        "\n",
        "#Send OTK Coordinates and corresponding hmac\n",
        "def OTKReg(keyID,x,y,hmac):\n",
        "    mes = {'ID':stuID, 'KEYID': keyID, 'OTKI.X': x, 'OTKI.Y': y, 'HMACI': hmac}\n",
        "    print(\"Sending message is: \", mes)\n",
        "    response = requests.put('{}/{}'.format(API_URL, \"OTKReg\"), json = mes)\t\t\n",
        "    print(response.json())\n",
        "    if((response.ok) == False): return False\n",
        "    else: return True\n",
        "\n",
        "#Send the reset code to delete your Identitiy Key\n",
        "#Reset Code is sent when you first registered\n",
        "def ResetIK(rcode):\n",
        "    mes = {'ID':stuID, 'RCODE': rcode}\n",
        "    print(\"Sending message is: \", mes)\n",
        "    response = requests.delete('{}/{}'.format(API_URL, \"ResetIK\"), json = mes)\t\t\n",
        "    print(response.json())\n",
        "    if((response.ok) == False): return False\n",
        "    else: return True\n",
        "\n",
        "#Sign your ID  number and send the signature to delete your SPK\n",
        "def ResetSPK(h,s):\n",
        "    mes = {'ID':stuID, 'H': h, 'S': s}\n",
        "    print(\"Sending message is: \", mes)\n",
        "    response = requests.delete('{}/{}'.format(API_URL, \"ResetSPK\"), json = mes)\t\t\n",
        "    print(response.json())\n",
        "    if((response.ok) == False): return False\n",
        "    else: return True\n",
        "\n",
        "#Send the reset code to delete your Identitiy Key\n",
        "def ResetOTK(h,s):\n",
        "    mes = {'ID':stuID, 'H': h, 'S': s}\n",
        "    print(\"Sending message is: \", mes)\n",
        "    response = requests.delete('{}/{}'.format(API_URL, \"ResetOTK\"), json = mes)\t\t\n",
        "    if((response.ok) == False): print(response.json())\n",
        "\n"
      ]
    },
    {
      "cell_type": "code",
      "execution_count": 28,
      "metadata": {
        "colab": {
          "base_uri": "https://localhost:8080/"
        },
        "id": "CMU0QBr8__q2",
        "outputId": "91669ac0-bf46-45eb-e9da-6ef2752cda27"
      },
      "outputs": [
        {
          "name": "stdout",
          "output_type": "stream",
          "text": [
            "sA: 75365099691681163466259435055151388598990196366045037773536006665067396329561\n",
            "Q: (0xc07922171f0674d52f11ce7abbc154557ddce928621c74f2aa15605b8e01abf7 , 0xa34d2e6967d58f9d312430908ec537839ffc50322d80ee3f99feaed9e3250253)\n",
            "Q.x: 87058090705547232336742506266448902457032608537577399368869745072849975094263\n",
            "Q.y: 73863361865121729253370141189521784002483174318560123943873444021233722393171\n"
          ]
        }
      ],
      "source": [
        "# IK Generation\n",
        "sA = random.randint(1, n-2) # random secret key\n",
        "Q = sA * P  # generating public key\n",
        "Q_x = Q.x\n",
        "Q_y = Q.y\n",
        "print(\"sA:\", sA)\n",
        "print(\"Q:\", Q)\n",
        "print(\"Q.x:\", Q_x)\n",
        "print(\"Q.y:\", Q_y)"
      ]
    },
    {
      "cell_type": "code",
      "execution_count": 29,
      "metadata": {
        "colab": {
          "base_uri": "https://localhost:8080/"
        },
        "id": "OvX93x-FGbja",
        "outputId": "95a9fc88-8127-4a2b-ac7e-8d7244c125a6"
      },
      "outputs": [
        {
          "name": "stdout",
          "output_type": "stream",
          "text": [
            "b'ZU\\xfc\\xea\\x17\\xde\\x9e\\x80\\xb08\\xb0\\xaf]\\xd2\\xe2\\xfe\\xc6\\xffk\\x06\\xb2tq\\xa4\\xcc{\\x14\\xd9 y\\x1c\\xb8'\n",
            "b'b3'\n",
            "b'ZU\\xfc\\xea\\x17\\xde\\x9e\\x80\\xb08\\xb0\\xaf]\\xd2\\xe2\\xfe\\xc6\\xffk\\x06\\xb2tq\\xa4\\xcc{\\x14\\xd9 y\\x1c\\xb8b3'\n",
            "s: 38435919104545028465405229083851199426577612833328471419512121279897034838259\n",
            "h: 40139398399024429188254655216662123008175195428486006903289784284292094948763\n"
          ]
        }
      ],
      "source": [
        "# Signature Generation for IK\n",
        "k = random.randint(1, n-2)\n",
        "R = k * P\n",
        "r = R.x % n\n",
        "\n",
        "r_byte_array = r.to_bytes((r.bit_length() +7)//8, byteorder = 'big')\n",
        "m_byte_array = stuID.to_bytes((stuID.bit_length() +7)//8, byteorder = 'big')\n",
        "r_m = r_byte_array + m_byte_array #concatenation of r and m where m is stuID\n",
        "print(r_byte_array)\n",
        "print(m_byte_array)\n",
        "print(r_m)\n",
        "\n",
        "\n",
        "h = SHA3_256.new(r_m)\n",
        "h = int.from_bytes(h.digest(), byteorder='big') % n\n",
        "\n",
        "\n",
        "s = (k - (sA * h)) % n\n",
        "print(\"s:\", s)\n",
        "print(\"h:\", h)"
      ]
    },
    {
      "cell_type": "code",
      "execution_count": 30,
      "metadata": {
        "colab": {
          "base_uri": "https://localhost:8080/",
          "height": 715
        },
        "id": "QmsW3IwjKqHS",
        "outputId": "074eb2d6-762f-4ae7-8933-52a78551dc1d"
      },
      "outputs": [
        {
          "name": "stdout",
          "output_type": "stream",
          "text": [
            "Sending message is:  {'ID': 25139, 'H': 40139398399024429188254655216662123008175195428486006903289784284292094948763, 'S': 38435919104545028465405229083851199426577612833328471419512121279897034838259, 'IKPUB.X': 87058090705547232336742506266448902457032608537577399368869745072849975094263, 'IKPUB.Y': 73863361865121729253370141189521784002483174318560123943873444021233722393171}\n"
          ]
        }
      ],
      "source": [
        "IKRegReq(h, s, Q_x, Q_y)"
      ]
    },
    {
      "cell_type": "code",
      "execution_count": 31,
      "metadata": {},
      "outputs": [
        {
          "name": "stdout",
          "output_type": "stream",
          "text": [
            "Sending message is:  {'ID': 25139, 'CODE': 383538}\n",
            "Registered successfully\n"
          ]
        }
      ],
      "source": [
        "CODE = 383538\n",
        "IKRegVerify(CODE)"
      ]
    },
    {
      "cell_type": "code",
      "execution_count": 32,
      "metadata": {},
      "outputs": [],
      "source": [
        "RCODE = 903764"
      ]
    },
    {
      "cell_type": "code",
      "execution_count": 38,
      "metadata": {},
      "outputs": [
        {
          "name": "stdout",
          "output_type": "stream",
          "text": [
            "spk_private: 49760804016305672242628858452671561631883295017037579045439043666340119331411\n",
            "spk_pub: (0x1d5be19079695e00267445161e44c526fd0dd6857f89f7724b1626c88bbd8934 , 0xcef990bc9e04723ad52fdf38d99436ce564539b573349ae039dcbe3218d24b63)\n",
            "spk_pub_x: 13279412479756039023006939294151267045839717479408817839293710814463378950452\n",
            "spk_pub_y: 93617390663867776116902322986952603938589221775532373175859757173961357675363\n",
            "h: 70079813329073930856804606363140448062677695844504871159148958480169809247078\n",
            "s: 42702578452500864554658062321887469197282606023250231586097905168842648683915\n"
          ]
        }
      ],
      "source": [
        "# SPK Generation\n",
        "spk_private = random.randint(1, n-2) # random secret key\n",
        "spk_pub = spk_private * P#Q  # generating public key\n",
        "spk_pub_x = spk_pub.x\n",
        "spk_pub_y = spk_pub.y\n",
        "print(\"spk_private:\", spk_private)\n",
        "print(\"spk_pub:\", spk_pub)\n",
        "print(\"spk_pub_x:\", spk_pub_x)\n",
        "print(\"spk_pub_y:\", spk_pub_y)\n",
        "\n",
        "# Signature Generation for SPK\n",
        "\n",
        "# calculating to be signed message\n",
        "spk_pub_x_byte_array = spk_pub_x.to_bytes((spk_pub_x.bit_length() +7)//8, byteorder = 'big')\n",
        "spk_pub_y_byte_array = spk_pub_y.to_bytes((spk_pub_y.bit_length() +7)//8, byteorder = 'big')\n",
        "spk_x_y = spk_pub_x_byte_array + spk_pub_y_byte_array #concatenation of spk.x and spk.y \n",
        "m = spk_x_y\n",
        "#print(\"spk_pub_x_byte_array\", spk_pub_x_byte_array)\n",
        "#print(\"spk_pub_y_byte_array\", spk_pub_y_byte_array)\n",
        "#print(\"concatenation of spk.x and spk.y:\", spk_x_y)\n",
        "\n",
        "# signature generation\n",
        "k = random.randint(1, n-2)\n",
        "\n",
        "R = k * P #P # Q is public IK\n",
        "r = R.x % n\n",
        "r_byte_array = r.to_bytes((r.bit_length() +7)//8, byteorder = 'big')\n",
        "r_m = r_byte_array + m # concatenation of r and m where m is concatenation of spk.x and spk.y \n",
        "\n",
        "\n",
        "h = SHA3_256.new(r_m)\n",
        "h = int.from_bytes(h.digest(), byteorder='big') % n\n",
        "\n",
        "s = (k - (sA * h)) % n\n",
        "\n",
        "print(\"h:\", h)\n",
        "print(\"s:\", s)"
      ]
    },
    {
      "cell_type": "code",
      "execution_count": 39,
      "metadata": {},
      "outputs": [
        {
          "name": "stdout",
          "output_type": "stream",
          "text": [
            "Sending message is:  {'ID': 25139, 'H': 70079813329073930856804606363140448062677695844504871159148958480169809247078, 'S': 42702578452500864554658062321887469197282606023250231586097905168842648683915, 'SPKPUB.X': 13279412479756039023006939294151267045839717479408817839293710814463378950452, 'SPKPUB.Y': 93617390663867776116902322986952603938589221775532373175859757173961357675363}\n"
          ]
        },
        {
          "data": {
            "text/plain": [
              "(85040781858568445399879179922879835942032506645887434621361669108644661638219,\n",
              " 46354559534391251764410704735456214670494836161052287022185178295305851364841,\n",
              " 59007954485099251624961572416014350736776821380203722506041937308252698607740,\n",
              " 101911760621645665479179352120241706761371492322672083429040706302642553897152)"
            ]
          },
          "execution_count": 39,
          "metadata": {},
          "output_type": "execute_result"
        }
      ],
      "source": [
        "SPKReg(h, s, spk_pub_x, spk_pub_y)"
      ]
    },
    {
      "cell_type": "code",
      "execution_count": 44,
      "metadata": {},
      "outputs": [
        {
          "name": "stdout",
          "output_type": "stream",
          "text": [
            "h_: 59007954485099251624961572416014350736776821380203722506041937308252698607740\n",
            "h : 59007954485099251624961572416014350736776821380203722506041937308252698607740\n",
            "verified\n"
          ]
        }
      ],
      "source": [
        "server_SPK_pub = (85040781858568445399879179922879835942032506645887434621361669108644661638219,\n",
        " 46354559534391251764410704735456214670494836161052287022185178295305851364841,\n",
        " 59007954485099251624961572416014350736776821380203722506041937308252698607740,\n",
        " 101911760621645665479179352120241706761371492322672083429040706302642553897152)\n",
        "\n",
        "server_H = server_SPK_pub[2]\n",
        "server_S = server_SPK_pub[3]\n",
        "server_SPK_pub_x = server_SPK_pub[0]\n",
        "server_SPK_pub_y = server_SPK_pub[1]\n",
        "\n",
        "\n",
        "#Signature Verification:\n",
        "server_spk_pub_x_byte_array = server_SPK_pub_x.to_bytes((server_SPK_pub_x.bit_length() +7)//8, byteorder = 'big')\n",
        "server_spk_pub_y_byte_array = server_SPK_pub_y.to_bytes((server_SPK_pub_y.bit_length() +7)//8, byteorder = 'big')\n",
        "server_spk_x_y = server_spk_pub_x_byte_array + server_spk_pub_y_byte_array # concatenation of server_spk.x and server_spk.y \n",
        "\n",
        "V = (server_S*P) + (server_H*IKey_Ser) \n",
        "v = V.x % n\n",
        "v_byte_array = v.to_bytes((v.bit_length() +7)//8, byteorder = 'big')\n",
        "v_m = v_byte_array + server_spk_x_y\n",
        "h_ = SHA3_256.new(v_m)\n",
        "h_ = int.from_bytes(h_.digest(), byteorder='big') % n\n",
        "\n",
        "print(\"h_:\", h_)\n",
        "print(\"h :\", server_H)\n",
        "if(server_H == h_):\n",
        "    print(\"verified\")\n",
        "else:\n",
        "    print(\"not verified\")\n"
      ]
    },
    {
      "cell_type": "code",
      "execution_count": 45,
      "metadata": {},
      "outputs": [
        {
          "name": "stdout",
          "output_type": "stream",
          "text": [
            "T_x_byte_array: b'\\xd6\\xbby\\xd0\\xe6\\xc3\\xe1\\xd1\\xef\\xae\\xfb/\\x8f\\x9a\\x1b\\x01P\\x89\\xd6z\\x03\\xa1\\xcfc\\xd6ZD/\\x05\\xe7\\x1a\\xac'\n",
            "T_y_byte_array: b'\\xb3\\xa4\\x01\\xab\\xc0\\xce\\xb5\\xc24\\x8dE\\xd0jpw\\x17\\xebz\\xab\\xf1\\xb0\\xc9\\xf2\\x9a\\x90\\x94\\x80\\xb1\\xb4\\xee\\xd6\\xda'\n",
            "U: b'\\xd6\\xbby\\xd0\\xe6\\xc3\\xe1\\xd1\\xef\\xae\\xfb/\\x8f\\x9a\\x1b\\x01P\\x89\\xd6z\\x03\\xa1\\xcfc\\xd6ZD/\\x05\\xe7\\x1a\\xac\\xb3\\xa4\\x01\\xab\\xc0\\xce\\xb5\\xc24\\x8dE\\xd0jpw\\x17\\xebz\\xab\\xf1\\xb0\\xc9\\xf2\\x9a\\x90\\x94\\x80\\xb1\\xb4\\xee\\xd6\\xdaNoNeedToRideAndHide'\n",
            "K_HMAC: b\"\\xb3'\\xf2\\xda\\xa7!I\\x18\\x8c\\xbe\\xdf\\xa4\\x12F3.\\x1f/\\xc6\\xea1\\x05\\xa6\\x80\\xf9\\xbe\\x7fX\\x14\\xfd3,\"\n"
          ]
        }
      ],
      "source": [
        "# Generating HMAC Key (KHMAC):\n",
        "server_SPK_pub_points = Point(server_SPK_pub_x, server_SPK_pub_y, curve = E)\n",
        "T = spk_private * server_SPK_pub_points\n",
        "T_x = T.x\n",
        "T_y = T.y\n",
        "\n",
        "T_x_byte_array = T_x.to_bytes((T_x.bit_length() +7)//8, byteorder = 'big')\n",
        "T_y_byte_array = T_y.to_bytes((T_y.bit_length() +7)//8, byteorder = 'big')\n",
        "joker = bytes(\"NoNeedToRideAndHide\", 'utf-8')\n",
        "U = T_x_byte_array + T_y_byte_array + joker\n",
        "\n",
        "K_HMAC = SHA3_256.new(U)\n",
        "\n",
        "print(\"T_x_byte_array:\", T_x_byte_array)\n",
        "print(\"T_y_byte_array:\", T_y_byte_array)\n",
        "print(\"U:\", U)\n",
        "print(\"K_HMAC:\", K_HMAC.digest())"
      ]
    },
    {
      "cell_type": "code",
      "execution_count": 46,
      "metadata": {},
      "outputs": [
        {
          "name": "stdout",
          "output_type": "stream",
          "text": [
            "for ID: 0\n",
            "private: 94377182566090365304330189797525479447070004536023737279250018880938850525785\n",
            "public: (0x602ad89e8dba9d27778e47380d0af238b4f81113e72eabb2e876e134b9e50441 , 0x4441c715053a7541fea7bf47d88b5b5cda2d19088157d93da09ccae546d8e261)\n",
            "public_x: 43497736092522547221454206138770411412167587358545040689354162069648252929089\n",
            "public_y: 30873492777105210423596955824875935419532639965816320531049714567313190609505\n",
            "hmac.hexdigest(): cb2615197affd067eb7695420f3920d9e33b57308e154623afbd4ec8f773182b\n",
            "Sending message is:  {'ID': 26846, 'KEYID': 0, 'OTKI.X': 43497736092522547221454206138770411412167587358545040689354162069648252929089, 'OTKI.Y': 30873492777105210423596955824875935419532639965816320531049714567313190609505, 'HMACI': 'cb2615197affd067eb7695420f3920d9e33b57308e154623afbd4ec8f773182b'}\n",
            "OTK with ID number0 is registered successfully\n",
            "------------------------------------------\n",
            "for ID: 1\n",
            "private: 89101635162612515839188692443378965614053378522540636366523253843333293985635\n",
            "public: (0xedf7bcb52cb1bd50f0c5e4fc8028b32cb380dd328177f09a46947ab1bfa339b6 , 0xa61d98956c559b05271cc07fb28c6bf0d77f9a23da3db9700da501fdf97d0e0b)\n",
            "public_x: 107635858752004796983582961780989544306118226726122006821716184324915754908086\n",
            "public_y: 75136224523586502766459397426621324714812394900722773780397041307031023980043\n",
            "hmac.hexdigest(): 0072db79ac24210456e0ec25f6def1bac3a781680c9c85eca544e41e138d571d\n",
            "Sending message is:  {'ID': 26846, 'KEYID': 1, 'OTKI.X': 107635858752004796983582961780989544306118226726122006821716184324915754908086, 'OTKI.Y': 75136224523586502766459397426621324714812394900722773780397041307031023980043, 'HMACI': '0072db79ac24210456e0ec25f6def1bac3a781680c9c85eca544e41e138d571d'}\n",
            "OTK with ID number1 is registered successfully\n",
            "------------------------------------------\n",
            "for ID: 2\n",
            "private: 19729633227004615575653601563893093831966495309489239825710456641354619798016\n",
            "public: (0x709edab87c29209bfeac16dbdddc55963e26702ffa44ecbd2a26f1f512e46552 , 0xbca90d627c71e2e29613c34178531bae1a52b521a5bdee42b76d03a1c4627f54)\n",
            "public_x: 50939710431970250310336213484681314047371366189324660171611851657908031087954\n",
            "public_y: 85333505065484483884924748063378447864566215125103387738192275857114208042836\n",
            "hmac.hexdigest(): efa70b15265031e9fd903f82940d45d50fa775bc64bb7cbfcc50c3a56ba33f32\n",
            "Sending message is:  {'ID': 26846, 'KEYID': 2, 'OTKI.X': 50939710431970250310336213484681314047371366189324660171611851657908031087954, 'OTKI.Y': 85333505065484483884924748063378447864566215125103387738192275857114208042836, 'HMACI': 'efa70b15265031e9fd903f82940d45d50fa775bc64bb7cbfcc50c3a56ba33f32'}\n",
            "OTK with ID number2 is registered successfully\n",
            "------------------------------------------\n",
            "for ID: 3\n",
            "private: 90286574850579275536899698421667900670172660466206547886850844502709156679628\n",
            "public: (0xd8c9d9762ef2e2c6a7153ffb5dbf34c58634cf309e1075a51960eebee0d14b7a , 0x3cefa524f5dc3260c6845ed625eec05e9ad1a461f7d698c8fbecccd80ebbb74)\n",
            "public_x: 98056212419181238272434203627540871420221627452909513900482641343485949594490\n",
            "public_y: 1722636696754713298839912382561922680239393946375473746380028641545498114932\n",
            "hmac.hexdigest(): 945d303628a56878ddc7d6b25325a40c85b07d255c596674be9db00afb76ab38\n",
            "Sending message is:  {'ID': 26846, 'KEYID': 3, 'OTKI.X': 98056212419181238272434203627540871420221627452909513900482641343485949594490, 'OTKI.Y': 1722636696754713298839912382561922680239393946375473746380028641545498114932, 'HMACI': '945d303628a56878ddc7d6b25325a40c85b07d255c596674be9db00afb76ab38'}\n",
            "OTK with ID number3 is registered successfully\n",
            "------------------------------------------\n",
            "for ID: 4\n",
            "private: 69616897282778742541788826789378886062953188033042406692166867349374046594185\n",
            "public: (0x6a00cb70b84ff2ff2a5a04c359f864072c0ab109221012538fdcabf6ea211a59 , 0xc072504d81107bd4224c0d92d8b33358e4886ec3bb0ba33d3cf9eadb8a23b82a)\n",
            "public_x: 47946566043259013235620595682268705817061003543278015813812193085648596441689\n",
            "public_y: 87046041722587585625392129313954009417197580756760782620258335465009634850858\n",
            "hmac.hexdigest(): 5ad1d38f9fd6355585c7a4d77f2487c20f7d643e3d87a71eb65cacac3bface25\n",
            "Sending message is:  {'ID': 26846, 'KEYID': 4, 'OTKI.X': 47946566043259013235620595682268705817061003543278015813812193085648596441689, 'OTKI.Y': 87046041722587585625392129313954009417197580756760782620258335465009634850858, 'HMACI': '5ad1d38f9fd6355585c7a4d77f2487c20f7d643e3d87a71eb65cacac3bface25'}\n",
            "OTK with ID number4 is registered successfully\n",
            "------------------------------------------\n",
            "for ID: 5\n",
            "private: 68193846786758347785353763043741943779755823868474299618158224384241041418994\n",
            "public: (0x3977ab1d625d4b744467c25a5f4c1cf34df90275f469b6bd7d5ac748de94067a , 0xa7077416c772409d6c181d6be7f52d44fadbe3bff50fef68bf5ae5a80627c178)\n",
            "public_x: 25993268160777550220926831292629591680825407279226932915411881916059213891194\n",
            "public_y: 75549414859558136685482437350615057619917994613307893073226741454694173360504\n",
            "hmac.hexdigest(): 78b881c96b3b5be59be14a690d5b6812da4cb4d563129245bc52649eaafcb74d\n",
            "Sending message is:  {'ID': 26846, 'KEYID': 5, 'OTKI.X': 25993268160777550220926831292629591680825407279226932915411881916059213891194, 'OTKI.Y': 75549414859558136685482437350615057619917994613307893073226741454694173360504, 'HMACI': '78b881c96b3b5be59be14a690d5b6812da4cb4d563129245bc52649eaafcb74d'}\n",
            "OTK with ID number5 is registered successfully\n",
            "------------------------------------------\n",
            "for ID: 6\n",
            "private: 14707055977534983526449770988267227820536981365340969156164071809938541932557\n",
            "public: (0x1d746a91b2a656138464bfe5fd6b49c8e31a1db2baf313221cedfa69136d7c94 , 0x2e92b572f695548dc80763fae369557c1c6f2707f639e2c9f406996fd2dd984f)\n",
            "public_x: 13322762381548059056977330472083536089406359739411972156740078235067123334292\n",
            "public_y: 21065603021778841792507573988712276195686807725149078657386190097407511730255\n",
            "hmac.hexdigest(): 66a686120e56c726e7d3c6a68738b24b1df27891885dea27b79353749118c718\n",
            "Sending message is:  {'ID': 26846, 'KEYID': 6, 'OTKI.X': 13322762381548059056977330472083536089406359739411972156740078235067123334292, 'OTKI.Y': 21065603021778841792507573988712276195686807725149078657386190097407511730255, 'HMACI': '66a686120e56c726e7d3c6a68738b24b1df27891885dea27b79353749118c718'}\n",
            "OTK with ID number6 is registered successfully\n",
            "------------------------------------------\n",
            "for ID: 7\n",
            "private: 68919739386933567235112070673567581038153871299329630953559238995605477531263\n",
            "public: (0xb4ac5351315490b86ca59555e703260940708343fe1bf19fe0dbd8c8453eda72 , 0xc74b53d89462b71a6c9645da0355dc758e5c7b24b30397bbcec48a90db73ade)\n",
            "public_x: 81720785474027386112075008565904810566309197894607167094034293431928033827442\n",
            "public_y: 5633959317615655131029558199544798161010019873536056786469663236196998265566\n",
            "hmac.hexdigest(): e462cf7d7941a946ce2b8c12422e30d4c6ffccd06110fbe507611996a81fb048\n",
            "Sending message is:  {'ID': 26846, 'KEYID': 7, 'OTKI.X': 81720785474027386112075008565904810566309197894607167094034293431928033827442, 'OTKI.Y': 5633959317615655131029558199544798161010019873536056786469663236196998265566, 'HMACI': 'e462cf7d7941a946ce2b8c12422e30d4c6ffccd06110fbe507611996a81fb048'}\n",
            "OTK with ID number7 is registered successfully\n",
            "------------------------------------------\n",
            "for ID: 8\n",
            "private: 17907203755757295494125332925616842813982021322353600295568532532917007516951\n",
            "public: (0x506e6e17d2b56bbef96dc5ccf19d3dc35652951a23b8395bfe6c72c0b1ad3a38 , 0x9366904d7e24f9159461709b768b57218c7ff6ff43a303b6c06f5012ba15cbbc)\n",
            "public_x: 36380140898154067125353264222840147343195897740819640347144153926912258685496\n",
            "public_y: 66671203083021944058565338323624980978768599297614482501388255697908088032188\n",
            "hmac.hexdigest(): 784ce708942d7ad9599c860f8829523320c53a2d1a6cb8aada581e75d02a0985\n",
            "Sending message is:  {'ID': 26846, 'KEYID': 8, 'OTKI.X': 36380140898154067125353264222840147343195897740819640347144153926912258685496, 'OTKI.Y': 66671203083021944058565338323624980978768599297614482501388255697908088032188, 'HMACI': '784ce708942d7ad9599c860f8829523320c53a2d1a6cb8aada581e75d02a0985'}\n",
            "OTK with ID number8 is registered successfully\n",
            "------------------------------------------\n",
            "for ID: 9\n",
            "private: 59327131895456154900742968122531017056424649398382287454105673792533202999240\n",
            "public: (0x5d3fd1840d4baf54872e495149faaa4d54edfb008ba2da4ca2358ef6c6e21cda , 0xb2193daac48ba7c36e95c082f18127c973e40a5fb663437212523b3e7670cfbd)\n",
            "public_x: 42177852308424446370088852260695046090073512500656007181380183357569825381594\n",
            "public_y: 80556283834857624414494967263158346604844794437973843014192800115764927451069\n",
            "hmac.hexdigest(): 7e9f0b17dca52eb02a21ee6d3ce442a147bbfe203fb7721be5dcf772ca9e9baf\n",
            "Sending message is:  {'ID': 26846, 'KEYID': 9, 'OTKI.X': 42177852308424446370088852260695046090073512500656007181380183357569825381594, 'OTKI.Y': 80556283834857624414494967263158346604844794437973843014192800115764927451069, 'HMACI': '7e9f0b17dca52eb02a21ee6d3ce442a147bbfe203fb7721be5dcf772ca9e9baf'}\n",
            "OTK with ID number9 is registered successfully\n",
            "------------------------------------------\n"
          ]
        }
      ],
      "source": [
        "# OTKs generation\n",
        "hmac_array = [] \n",
        "OTK_public = []\n",
        "OTK_private = []\n",
        "\n",
        "for i in range(10):\n",
        "    print(\"for ID:\", i)\n",
        "    otk_private = random.randint(1, n-2) # random secret key\n",
        "    otk_pub = otk_private * P # generating public key\n",
        "\n",
        "    otk_pub_x = otk_pub.x\n",
        "    otk_pub_y = otk_pub.y\n",
        "\n",
        "    print(\"private:\", otk_private)\n",
        "    print(\"public:\", otk_pub)\n",
        "    print(\"public_x:\", otk_pub_x)\n",
        "    print(\"public_y:\", otk_pub_y)\n",
        "\n",
        "    otk_pub_x_byte_array = otk_pub_x.to_bytes((otk_pub_x.bit_length() +7)//8, byteorder = 'big')\n",
        "    otk_pub_y_byte_array = otk_pub_y.to_bytes((otk_pub_y.bit_length() +7)//8, byteorder = 'big')\n",
        "    otk_public_x_y = otk_pub_x_byte_array + otk_pub_y_byte_array #concatenation of x and y \n",
        "\n",
        "    hmac = HMAC.new(key = K_HMAC.digest(), msg = otk_public_x_y, digestmod = SHA256)\n",
        "    \n",
        "    print(\"hmac.hexdigest():\", hmac.hexdigest())\n",
        "    hmac_array.append(hmac)\n",
        "    OTK_public.append(otk_pub)\n",
        "    OTK_private.append(otk_private)\n",
        "\n",
        "    OTKReg(i, otk_pub_x, otk_pub_y, hmac.hexdigest())\n",
        "    print('------------------------------------------')\n"
      ]
    },
    {
      "cell_type": "code",
      "execution_count": 47,
      "metadata": {},
      "outputs": [
        {
          "name": "stdout",
          "output_type": "stream",
          "text": [
            "hmac keys: [<Crypto.Hash.HMAC.HMAC object at 0x11234d840>, <Crypto.Hash.HMAC.HMAC object at 0x11234f5b0>, <Crypto.Hash.HMAC.HMAC object at 0x11234f250>, <Crypto.Hash.HMAC.HMAC object at 0x11234d900>, <Crypto.Hash.HMAC.HMAC object at 0x11234f670>, <Crypto.Hash.HMAC.HMAC object at 0x11234f310>, <Crypto.Hash.HMAC.HMAC object at 0x11234dde0>, <Crypto.Hash.HMAC.HMAC object at 0x10f676680>, <Crypto.Hash.HMAC.HMAC object at 0x11234c160>, <Crypto.Hash.HMAC.HMAC object at 0x10f69ba60>]\n",
            "Public OTK: [<ecpy.curves.Point object at 0x110a06ec0>, <ecpy.curves.Point object at 0x111784600>, <ecpy.curves.Point object at 0x10f5e5740>, <ecpy.curves.Point object at 0x111039700>, <ecpy.curves.Point object at 0x1110191c0>, <ecpy.curves.Point object at 0x111d85ac0>, <ecpy.curves.Point object at 0x11177a3c0>, <ecpy.curves.Point object at 0x111789380>, <ecpy.curves.Point object at 0x11177b040>, <ecpy.curves.Point object at 0x1115e3a40>]\n",
            "Private OTK: [94377182566090365304330189797525479447070004536023737279250018880938850525785, 89101635162612515839188692443378965614053378522540636366523253843333293985635, 19729633227004615575653601563893093831966495309489239825710456641354619798016, 90286574850579275536899698421667900670172660466206547886850844502709156679628, 69616897282778742541788826789378886062953188033042406692166867349374046594185, 68193846786758347785353763043741943779755823868474299618158224384241041418994, 14707055977534983526449770988267227820536981365340969156164071809938541932557, 68919739386933567235112070673567581038153871299329630953559238995605477531263, 17907203755757295494125332925616842813982021322353600295568532532917007516951, 59327131895456154900742968122531017056424649398382287454105673792533202999240]\n"
          ]
        }
      ],
      "source": [
        "print(\"hmac keys:\",hmac_array)\n",
        "print(\"Public OTK:\",OTK_public)\n",
        "print(\"Private OTK:\",OTK_private)"
      ]
    },
    {
      "cell_type": "code",
      "execution_count": 1,
      "metadata": {},
      "outputs": [
        {
          "name": "stdout",
          "output_type": "stream",
          "text": [
            "HTTPConnectionPool(host='10.92.52.175', port=6000): Max retries exceeded with url: / (Caused by NewConnectionError('<urllib3.connection.HTTPConnection object at 0x1115c5e70>: Failed to establish a new connection: [Errno 61] Connection refused'))\n"
          ]
        }
      ],
      "source": [
        "import math\n",
        "import time\n",
        "import random\n",
        "import sympy\n",
        "import warnings\n",
        "from random import randint, seed\n",
        "import sys\n",
        "from ecpy.curves import Curve,Point\n",
        "from Crypto.Hash import SHA3_256\n",
        "import requests\n",
        "from Crypto.Cipher import AES\n",
        "from Crypto import Random\n",
        "from Crypto.Util.Padding import pad\n",
        "from Crypto.Util.Padding import unpad\n",
        "import random\n",
        "import re\n",
        "import json\n",
        "import argparse\n",
        "\n",
        "\n",
        "API_URL = '10.92.52.175:6000'\n",
        "\n",
        "\n",
        "def view_status():\n",
        "    try:\n",
        "        response = requests.get(f'http://{API_URL}')\t\t\n",
        "        if((response.ok) == False):\n",
        "            raise Exception(response.json())\n",
        "        else:\n",
        "            print(response.json())\n",
        "    except Exception as e:\n",
        "        print(e)\n",
        "\n",
        "def view_classlist():\n",
        "    try:\n",
        "        response = requests.get(f'http://{API_URL}/Class')\t\t\n",
        "        if((response.ok) == False):\n",
        "            raise Exception(response.json())\n",
        "        else:\n",
        "            print(response.json())\n",
        "    except Exception as e:\n",
        "        print(e)\n",
        "\n",
        "\n",
        "\n",
        "def register(id_, rand_nam):\n",
        "    try:\n",
        "        mes = {'ID': id_, 'random': rand_nam}\n",
        "        response = requests.put(f'http://{API_URL}/Register', json = mes)\n",
        "        if((response.ok) == False):\n",
        "            raise Exception(response.json())\n",
        "        else:\n",
        "            print(response.json())\n",
        "    except Exception as e:\n",
        "        print(e)\n",
        "        \n",
        "\n",
        "\n",
        "\n",
        "\n",
        "stuID = 25139\t ##Change this to your ID number\n",
        "num = 13998852341340 ##Create a random number or enter your favourite num\n",
        "\n",
        "#Register to the most secure lottery ever:D\n",
        "#register(stuID, num)\n",
        "\n",
        "#View status\n",
        "view_status()\n",
        "\n",
        "#Comment out to view class list \n",
        "#view_classlist()\n"
      ]
    },
    {
      "cell_type": "code",
      "execution_count": null,
      "metadata": {},
      "outputs": [],
      "source": []
    }
  ],
  "metadata": {
    "colab": {
      "collapsed_sections": [],
      "name": "cs411_termproject_phase1",
      "provenance": []
    },
    "kernelspec": {
      "display_name": "Python 3",
      "name": "python3"
    },
    "language_info": {
      "codemirror_mode": {
        "name": "ipython",
        "version": 3
      },
      "file_extension": ".py",
      "mimetype": "text/x-python",
      "name": "python",
      "nbconvert_exporter": "python",
      "pygments_lexer": "ipython3",
      "version": "3.10.1"
    }
  },
  "nbformat": 4,
  "nbformat_minor": 0
}
